{
 "cells": [
  {
   "cell_type": "code",
   "execution_count": 1,
   "metadata": {},
   "outputs": [],
   "source": [
    "#Loading the libraries required\n",
    "import numpy as np\n",
    "import pandas as pd\n",
    "import seaborn as sns\n",
    "import matplotlib.pyplot as plt\n",
    "import datetime as dt"
   ]
  },
  {
   "cell_type": "code",
   "execution_count": 2,
   "metadata": {},
   "outputs": [],
   "source": [
    "#Loading the data set and assigning a dataframe\n",
    "df_nat= pd.read_csv(\"C:\\\\Users\\\\anupam.b.kumar.singh\\\\Documents\\\\Personal_Files\\\\Predictive Analysis1\\\\Assignment PCA&Clustering\\\\Country-data.csv\")"
   ]
  },
  {
   "cell_type": "code",
   "execution_count": 3,
   "metadata": {},
   "outputs": [
    {
     "data": {
      "text/html": [
       "<div>\n",
       "<style scoped>\n",
       "    .dataframe tbody tr th:only-of-type {\n",
       "        vertical-align: middle;\n",
       "    }\n",
       "\n",
       "    .dataframe tbody tr th {\n",
       "        vertical-align: top;\n",
       "    }\n",
       "\n",
       "    .dataframe thead th {\n",
       "        text-align: right;\n",
       "    }\n",
       "</style>\n",
       "<table border=\"1\" class=\"dataframe\">\n",
       "  <thead>\n",
       "    <tr style=\"text-align: right;\">\n",
       "      <th></th>\n",
       "      <th>country</th>\n",
       "      <th>child_mort</th>\n",
       "      <th>exports</th>\n",
       "      <th>health</th>\n",
       "      <th>imports</th>\n",
       "      <th>income</th>\n",
       "      <th>inflation</th>\n",
       "      <th>life_expec</th>\n",
       "      <th>total_fer</th>\n",
       "      <th>gdpp</th>\n",
       "    </tr>\n",
       "  </thead>\n",
       "  <tbody>\n",
       "    <tr>\n",
       "      <th>0</th>\n",
       "      <td>Afghanistan</td>\n",
       "      <td>90.2</td>\n",
       "      <td>10.0</td>\n",
       "      <td>7.58</td>\n",
       "      <td>44.9</td>\n",
       "      <td>1610</td>\n",
       "      <td>9.440</td>\n",
       "      <td>56.2</td>\n",
       "      <td>5.82</td>\n",
       "      <td>553</td>\n",
       "    </tr>\n",
       "    <tr>\n",
       "      <th>1</th>\n",
       "      <td>Albania</td>\n",
       "      <td>16.6</td>\n",
       "      <td>28.0</td>\n",
       "      <td>6.55</td>\n",
       "      <td>48.6</td>\n",
       "      <td>9930</td>\n",
       "      <td>4.490</td>\n",
       "      <td>76.3</td>\n",
       "      <td>1.65</td>\n",
       "      <td>4090</td>\n",
       "    </tr>\n",
       "    <tr>\n",
       "      <th>2</th>\n",
       "      <td>Algeria</td>\n",
       "      <td>27.3</td>\n",
       "      <td>38.4</td>\n",
       "      <td>4.17</td>\n",
       "      <td>31.4</td>\n",
       "      <td>12900</td>\n",
       "      <td>16.100</td>\n",
       "      <td>76.5</td>\n",
       "      <td>2.89</td>\n",
       "      <td>4460</td>\n",
       "    </tr>\n",
       "    <tr>\n",
       "      <th>3</th>\n",
       "      <td>Angola</td>\n",
       "      <td>119.0</td>\n",
       "      <td>62.3</td>\n",
       "      <td>2.85</td>\n",
       "      <td>42.9</td>\n",
       "      <td>5900</td>\n",
       "      <td>22.400</td>\n",
       "      <td>60.1</td>\n",
       "      <td>6.16</td>\n",
       "      <td>3530</td>\n",
       "    </tr>\n",
       "    <tr>\n",
       "      <th>4</th>\n",
       "      <td>Antigua and Barbuda</td>\n",
       "      <td>10.3</td>\n",
       "      <td>45.5</td>\n",
       "      <td>6.03</td>\n",
       "      <td>58.9</td>\n",
       "      <td>19100</td>\n",
       "      <td>1.440</td>\n",
       "      <td>76.8</td>\n",
       "      <td>2.13</td>\n",
       "      <td>12200</td>\n",
       "    </tr>\n",
       "    <tr>\n",
       "      <th>5</th>\n",
       "      <td>Argentina</td>\n",
       "      <td>14.5</td>\n",
       "      <td>18.9</td>\n",
       "      <td>8.10</td>\n",
       "      <td>16.0</td>\n",
       "      <td>18700</td>\n",
       "      <td>20.900</td>\n",
       "      <td>75.8</td>\n",
       "      <td>2.37</td>\n",
       "      <td>10300</td>\n",
       "    </tr>\n",
       "    <tr>\n",
       "      <th>6</th>\n",
       "      <td>Armenia</td>\n",
       "      <td>18.1</td>\n",
       "      <td>20.8</td>\n",
       "      <td>4.40</td>\n",
       "      <td>45.3</td>\n",
       "      <td>6700</td>\n",
       "      <td>7.770</td>\n",
       "      <td>73.3</td>\n",
       "      <td>1.69</td>\n",
       "      <td>3220</td>\n",
       "    </tr>\n",
       "    <tr>\n",
       "      <th>7</th>\n",
       "      <td>Australia</td>\n",
       "      <td>4.8</td>\n",
       "      <td>19.8</td>\n",
       "      <td>8.73</td>\n",
       "      <td>20.9</td>\n",
       "      <td>41400</td>\n",
       "      <td>1.160</td>\n",
       "      <td>82.0</td>\n",
       "      <td>1.93</td>\n",
       "      <td>51900</td>\n",
       "    </tr>\n",
       "    <tr>\n",
       "      <th>8</th>\n",
       "      <td>Austria</td>\n",
       "      <td>4.3</td>\n",
       "      <td>51.3</td>\n",
       "      <td>11.00</td>\n",
       "      <td>47.8</td>\n",
       "      <td>43200</td>\n",
       "      <td>0.873</td>\n",
       "      <td>80.5</td>\n",
       "      <td>1.44</td>\n",
       "      <td>46900</td>\n",
       "    </tr>\n",
       "    <tr>\n",
       "      <th>9</th>\n",
       "      <td>Azerbaijan</td>\n",
       "      <td>39.2</td>\n",
       "      <td>54.3</td>\n",
       "      <td>5.88</td>\n",
       "      <td>20.7</td>\n",
       "      <td>16000</td>\n",
       "      <td>13.800</td>\n",
       "      <td>69.1</td>\n",
       "      <td>1.92</td>\n",
       "      <td>5840</td>\n",
       "    </tr>\n",
       "  </tbody>\n",
       "</table>\n",
       "</div>"
      ],
      "text/plain": [
       "               country  child_mort  exports  health  imports  income  \\\n",
       "0          Afghanistan        90.2     10.0    7.58     44.9    1610   \n",
       "1              Albania        16.6     28.0    6.55     48.6    9930   \n",
       "2              Algeria        27.3     38.4    4.17     31.4   12900   \n",
       "3               Angola       119.0     62.3    2.85     42.9    5900   \n",
       "4  Antigua and Barbuda        10.3     45.5    6.03     58.9   19100   \n",
       "5            Argentina        14.5     18.9    8.10     16.0   18700   \n",
       "6              Armenia        18.1     20.8    4.40     45.3    6700   \n",
       "7            Australia         4.8     19.8    8.73     20.9   41400   \n",
       "8              Austria         4.3     51.3   11.00     47.8   43200   \n",
       "9           Azerbaijan        39.2     54.3    5.88     20.7   16000   \n",
       "\n",
       "   inflation  life_expec  total_fer   gdpp  \n",
       "0      9.440        56.2       5.82    553  \n",
       "1      4.490        76.3       1.65   4090  \n",
       "2     16.100        76.5       2.89   4460  \n",
       "3     22.400        60.1       6.16   3530  \n",
       "4      1.440        76.8       2.13  12200  \n",
       "5     20.900        75.8       2.37  10300  \n",
       "6      7.770        73.3       1.69   3220  \n",
       "7      1.160        82.0       1.93  51900  \n",
       "8      0.873        80.5       1.44  46900  \n",
       "9     13.800        69.1       1.92   5840  "
      ]
     },
     "execution_count": 3,
     "metadata": {},
     "output_type": "execute_result"
    }
   ],
   "source": [
    "df_nat.head(10)"
   ]
  },
  {
   "cell_type": "code",
   "execution_count": 4,
   "metadata": {},
   "outputs": [
    {
     "data": {
      "text/plain": [
       "country       0\n",
       "child_mort    0\n",
       "exports       0\n",
       "health        0\n",
       "imports       0\n",
       "income        0\n",
       "inflation     0\n",
       "life_expec    0\n",
       "total_fer     0\n",
       "gdpp          0\n",
       "dtype: int64"
      ]
     },
     "execution_count": 4,
     "metadata": {},
     "output_type": "execute_result"
    }
   ],
   "source": [
    "#check for null values\n",
    "df_nat.isnull().sum(axis=0)"
   ]
  },
  {
   "cell_type": "code",
   "execution_count": 5,
   "metadata": {},
   "outputs": [
    {
     "name": "stdout",
     "output_type": "stream",
     "text": [
      "<class 'pandas.core.frame.DataFrame'>\n",
      "RangeIndex: 167 entries, 0 to 166\n",
      "Data columns (total 10 columns):\n",
      "country       167 non-null object\n",
      "child_mort    167 non-null float64\n",
      "exports       167 non-null float64\n",
      "health        167 non-null float64\n",
      "imports       167 non-null float64\n",
      "income        167 non-null int64\n",
      "inflation     167 non-null float64\n",
      "life_expec    167 non-null float64\n",
      "total_fer     167 non-null float64\n",
      "gdpp          167 non-null int64\n",
      "dtypes: float64(7), int64(2), object(1)\n",
      "memory usage: 13.1+ KB\n"
     ]
    }
   ],
   "source": [
    "#Getting info about the data set\n",
    "df_nat.info()"
   ]
  },
  {
   "cell_type": "code",
   "execution_count": null,
   "metadata": {},
   "outputs": [],
   "source": []
  },
  {
   "cell_type": "code",
   "execution_count": null,
   "metadata": {},
   "outputs": [],
   "source": []
  },
  {
   "cell_type": "code",
   "execution_count": null,
   "metadata": {},
   "outputs": [],
   "source": []
  },
  {
   "cell_type": "code",
   "execution_count": 6,
   "metadata": {},
   "outputs": [
    {
     "data": {
      "text/plain": [
       "(167, 10)"
      ]
     },
     "execution_count": 6,
     "metadata": {},
     "output_type": "execute_result"
    }
   ],
   "source": [
    "#dataframe shape\n",
    "df_nat.shape"
   ]
  },
  {
   "cell_type": "code",
   "execution_count": 7,
   "metadata": {},
   "outputs": [],
   "source": [
    "#changig the Percetage numbers to actuall figures\n",
    "df_nat['exports']=df_nat['exports'] * df_nat['gdpp'] /100\n",
    "df_nat['health']=df_nat['health'] * df_nat['gdpp'] /100\n",
    "df_nat['imports']=df_nat['imports'] * df_nat['gdpp'] /100"
   ]
  },
  {
   "cell_type": "code",
   "execution_count": null,
   "metadata": {},
   "outputs": [],
   "source": []
  },
  {
   "cell_type": "code",
   "execution_count": 8,
   "metadata": {},
   "outputs": [],
   "source": [
    "#assigning the dataframe to a new df with no country\n",
    "df_nat2=df_nat.drop('country', axis=1)"
   ]
  },
  {
   "cell_type": "code",
   "execution_count": 9,
   "metadata": {},
   "outputs": [],
   "source": [
    "df_natx=df_nat2\n",
    "df_naty=df_nat2\n"
   ]
  },
  {
   "cell_type": "code",
   "execution_count": 10,
   "metadata": {},
   "outputs": [
    {
     "data": {
      "text/html": [
       "<div>\n",
       "<style scoped>\n",
       "    .dataframe tbody tr th:only-of-type {\n",
       "        vertical-align: middle;\n",
       "    }\n",
       "\n",
       "    .dataframe tbody tr th {\n",
       "        vertical-align: top;\n",
       "    }\n",
       "\n",
       "    .dataframe thead th {\n",
       "        text-align: right;\n",
       "    }\n",
       "</style>\n",
       "<table border=\"1\" class=\"dataframe\">\n",
       "  <thead>\n",
       "    <tr style=\"text-align: right;\">\n",
       "      <th></th>\n",
       "      <th>child_mort</th>\n",
       "      <th>exports</th>\n",
       "      <th>health</th>\n",
       "      <th>imports</th>\n",
       "      <th>income</th>\n",
       "      <th>inflation</th>\n",
       "      <th>life_expec</th>\n",
       "      <th>total_fer</th>\n",
       "      <th>gdpp</th>\n",
       "    </tr>\n",
       "  </thead>\n",
       "  <tbody>\n",
       "    <tr>\n",
       "      <th>0</th>\n",
       "      <td>90.2</td>\n",
       "      <td>55.30</td>\n",
       "      <td>41.9174</td>\n",
       "      <td>248.297</td>\n",
       "      <td>1610</td>\n",
       "      <td>9.440</td>\n",
       "      <td>56.2</td>\n",
       "      <td>5.82</td>\n",
       "      <td>553</td>\n",
       "    </tr>\n",
       "    <tr>\n",
       "      <th>1</th>\n",
       "      <td>16.6</td>\n",
       "      <td>1145.20</td>\n",
       "      <td>267.8950</td>\n",
       "      <td>1987.740</td>\n",
       "      <td>9930</td>\n",
       "      <td>4.490</td>\n",
       "      <td>76.3</td>\n",
       "      <td>1.65</td>\n",
       "      <td>4090</td>\n",
       "    </tr>\n",
       "    <tr>\n",
       "      <th>2</th>\n",
       "      <td>27.3</td>\n",
       "      <td>1712.64</td>\n",
       "      <td>185.9820</td>\n",
       "      <td>1400.440</td>\n",
       "      <td>12900</td>\n",
       "      <td>16.100</td>\n",
       "      <td>76.5</td>\n",
       "      <td>2.89</td>\n",
       "      <td>4460</td>\n",
       "    </tr>\n",
       "    <tr>\n",
       "      <th>3</th>\n",
       "      <td>119.0</td>\n",
       "      <td>2199.19</td>\n",
       "      <td>100.6050</td>\n",
       "      <td>1514.370</td>\n",
       "      <td>5900</td>\n",
       "      <td>22.400</td>\n",
       "      <td>60.1</td>\n",
       "      <td>6.16</td>\n",
       "      <td>3530</td>\n",
       "    </tr>\n",
       "    <tr>\n",
       "      <th>4</th>\n",
       "      <td>10.3</td>\n",
       "      <td>5551.00</td>\n",
       "      <td>735.6600</td>\n",
       "      <td>7185.800</td>\n",
       "      <td>19100</td>\n",
       "      <td>1.440</td>\n",
       "      <td>76.8</td>\n",
       "      <td>2.13</td>\n",
       "      <td>12200</td>\n",
       "    </tr>\n",
       "    <tr>\n",
       "      <th>5</th>\n",
       "      <td>14.5</td>\n",
       "      <td>1946.70</td>\n",
       "      <td>834.3000</td>\n",
       "      <td>1648.000</td>\n",
       "      <td>18700</td>\n",
       "      <td>20.900</td>\n",
       "      <td>75.8</td>\n",
       "      <td>2.37</td>\n",
       "      <td>10300</td>\n",
       "    </tr>\n",
       "    <tr>\n",
       "      <th>6</th>\n",
       "      <td>18.1</td>\n",
       "      <td>669.76</td>\n",
       "      <td>141.6800</td>\n",
       "      <td>1458.660</td>\n",
       "      <td>6700</td>\n",
       "      <td>7.770</td>\n",
       "      <td>73.3</td>\n",
       "      <td>1.69</td>\n",
       "      <td>3220</td>\n",
       "    </tr>\n",
       "    <tr>\n",
       "      <th>7</th>\n",
       "      <td>4.8</td>\n",
       "      <td>10276.20</td>\n",
       "      <td>4530.8700</td>\n",
       "      <td>10847.100</td>\n",
       "      <td>41400</td>\n",
       "      <td>1.160</td>\n",
       "      <td>82.0</td>\n",
       "      <td>1.93</td>\n",
       "      <td>51900</td>\n",
       "    </tr>\n",
       "    <tr>\n",
       "      <th>8</th>\n",
       "      <td>4.3</td>\n",
       "      <td>24059.70</td>\n",
       "      <td>5159.0000</td>\n",
       "      <td>22418.200</td>\n",
       "      <td>43200</td>\n",
       "      <td>0.873</td>\n",
       "      <td>80.5</td>\n",
       "      <td>1.44</td>\n",
       "      <td>46900</td>\n",
       "    </tr>\n",
       "    <tr>\n",
       "      <th>9</th>\n",
       "      <td>39.2</td>\n",
       "      <td>3171.12</td>\n",
       "      <td>343.3920</td>\n",
       "      <td>1208.880</td>\n",
       "      <td>16000</td>\n",
       "      <td>13.800</td>\n",
       "      <td>69.1</td>\n",
       "      <td>1.92</td>\n",
       "      <td>5840</td>\n",
       "    </tr>\n",
       "  </tbody>\n",
       "</table>\n",
       "</div>"
      ],
      "text/plain": [
       "   child_mort   exports     health    imports  income  inflation  life_expec  \\\n",
       "0        90.2     55.30    41.9174    248.297    1610      9.440        56.2   \n",
       "1        16.6   1145.20   267.8950   1987.740    9930      4.490        76.3   \n",
       "2        27.3   1712.64   185.9820   1400.440   12900     16.100        76.5   \n",
       "3       119.0   2199.19   100.6050   1514.370    5900     22.400        60.1   \n",
       "4        10.3   5551.00   735.6600   7185.800   19100      1.440        76.8   \n",
       "5        14.5   1946.70   834.3000   1648.000   18700     20.900        75.8   \n",
       "6        18.1    669.76   141.6800   1458.660    6700      7.770        73.3   \n",
       "7         4.8  10276.20  4530.8700  10847.100   41400      1.160        82.0   \n",
       "8         4.3  24059.70  5159.0000  22418.200   43200      0.873        80.5   \n",
       "9        39.2   3171.12   343.3920   1208.880   16000     13.800        69.1   \n",
       "\n",
       "   total_fer   gdpp  \n",
       "0       5.82    553  \n",
       "1       1.65   4090  \n",
       "2       2.89   4460  \n",
       "3       6.16   3530  \n",
       "4       2.13  12200  \n",
       "5       2.37  10300  \n",
       "6       1.69   3220  \n",
       "7       1.93  51900  \n",
       "8       1.44  46900  \n",
       "9       1.92   5840  "
      ]
     },
     "execution_count": 10,
     "metadata": {},
     "output_type": "execute_result"
    }
   ],
   "source": [
    "df_nat2.head(10)"
   ]
  },
  {
   "cell_type": "code",
   "execution_count": 11,
   "metadata": {},
   "outputs": [
    {
     "name": "stderr",
     "output_type": "stream",
     "text": [
      "C:\\Users\\anupam.b.kumar.singh\\AppData\\Local\\Continuum\\anaconda3\\lib\\site-packages\\sklearn\\preprocessing\\data.py:625: DataConversionWarning: Data with input dtype int64, float64 were all converted to float64 by StandardScaler.\n",
      "  return self.partial_fit(X, y)\n",
      "C:\\Users\\anupam.b.kumar.singh\\AppData\\Local\\Continuum\\anaconda3\\lib\\site-packages\\sklearn\\base.py:462: DataConversionWarning: Data with input dtype int64, float64 were all converted to float64 by StandardScaler.\n",
      "  return self.fit(X, **fit_params).transform(X)\n"
     ]
    }
   ],
   "source": [
    "#Standardising the Data set\n",
    "from sklearn.preprocessing import StandardScaler\n",
    "standard_scaler = StandardScaler()\n",
    "df_naty = standard_scaler.fit_transform(df_naty)"
   ]
  },
  {
   "cell_type": "code",
   "execution_count": 12,
   "metadata": {},
   "outputs": [],
   "source": [
    "df_naty=pd.DataFrame(df_naty)"
   ]
  },
  {
   "cell_type": "code",
   "execution_count": 13,
   "metadata": {},
   "outputs": [],
   "source": [
    "df_naty.columns=['child_mort', 'exports', 'health', 'imports', 'income', 'inflation',\n",
    "       'life_expec', 'total_fer', 'gdpp']"
   ]
  },
  {
   "cell_type": "code",
   "execution_count": 14,
   "metadata": {},
   "outputs": [
    {
     "data": {
      "text/html": [
       "<div>\n",
       "<style scoped>\n",
       "    .dataframe tbody tr th:only-of-type {\n",
       "        vertical-align: middle;\n",
       "    }\n",
       "\n",
       "    .dataframe tbody tr th {\n",
       "        vertical-align: top;\n",
       "    }\n",
       "\n",
       "    .dataframe thead th {\n",
       "        text-align: right;\n",
       "    }\n",
       "</style>\n",
       "<table border=\"1\" class=\"dataframe\">\n",
       "  <thead>\n",
       "    <tr style=\"text-align: right;\">\n",
       "      <th></th>\n",
       "      <th>child_mort</th>\n",
       "      <th>exports</th>\n",
       "      <th>health</th>\n",
       "      <th>imports</th>\n",
       "      <th>income</th>\n",
       "      <th>inflation</th>\n",
       "      <th>life_expec</th>\n",
       "      <th>total_fer</th>\n",
       "      <th>gdpp</th>\n",
       "    </tr>\n",
       "  </thead>\n",
       "  <tbody>\n",
       "    <tr>\n",
       "      <th>0</th>\n",
       "      <td>1.291532</td>\n",
       "      <td>-0.411011</td>\n",
       "      <td>-0.565040</td>\n",
       "      <td>-0.432276</td>\n",
       "      <td>-0.808245</td>\n",
       "      <td>0.157336</td>\n",
       "      <td>-1.619092</td>\n",
       "      <td>1.902882</td>\n",
       "      <td>-0.679180</td>\n",
       "    </tr>\n",
       "    <tr>\n",
       "      <th>1</th>\n",
       "      <td>-0.538949</td>\n",
       "      <td>-0.350191</td>\n",
       "      <td>-0.439218</td>\n",
       "      <td>-0.313677</td>\n",
       "      <td>-0.375369</td>\n",
       "      <td>-0.312347</td>\n",
       "      <td>0.647866</td>\n",
       "      <td>-0.859973</td>\n",
       "      <td>-0.485623</td>\n",
       "    </tr>\n",
       "    <tr>\n",
       "      <th>2</th>\n",
       "      <td>-0.272833</td>\n",
       "      <td>-0.318526</td>\n",
       "      <td>-0.484826</td>\n",
       "      <td>-0.353720</td>\n",
       "      <td>-0.220844</td>\n",
       "      <td>0.789274</td>\n",
       "      <td>0.670423</td>\n",
       "      <td>-0.038404</td>\n",
       "      <td>-0.465376</td>\n",
       "    </tr>\n",
       "    <tr>\n",
       "      <th>3</th>\n",
       "      <td>2.007808</td>\n",
       "      <td>-0.291375</td>\n",
       "      <td>-0.532363</td>\n",
       "      <td>-0.345953</td>\n",
       "      <td>-0.585043</td>\n",
       "      <td>1.387054</td>\n",
       "      <td>-1.179234</td>\n",
       "      <td>2.128151</td>\n",
       "      <td>-0.516268</td>\n",
       "    </tr>\n",
       "    <tr>\n",
       "      <th>4</th>\n",
       "      <td>-0.695634</td>\n",
       "      <td>-0.104331</td>\n",
       "      <td>-0.178771</td>\n",
       "      <td>0.040735</td>\n",
       "      <td>0.101732</td>\n",
       "      <td>-0.601749</td>\n",
       "      <td>0.704258</td>\n",
       "      <td>-0.541946</td>\n",
       "      <td>-0.041817</td>\n",
       "    </tr>\n",
       "    <tr>\n",
       "      <th>5</th>\n",
       "      <td>-0.591177</td>\n",
       "      <td>-0.305464</td>\n",
       "      <td>-0.123849</td>\n",
       "      <td>-0.336841</td>\n",
       "      <td>0.080920</td>\n",
       "      <td>1.244725</td>\n",
       "      <td>0.591474</td>\n",
       "      <td>-0.382933</td>\n",
       "      <td>-0.145791</td>\n",
       "    </tr>\n",
       "    <tr>\n",
       "      <th>6</th>\n",
       "      <td>-0.501643</td>\n",
       "      <td>-0.376722</td>\n",
       "      <td>-0.509493</td>\n",
       "      <td>-0.349751</td>\n",
       "      <td>-0.543421</td>\n",
       "      <td>-0.001123</td>\n",
       "      <td>0.309514</td>\n",
       "      <td>-0.833471</td>\n",
       "      <td>-0.533233</td>\n",
       "    </tr>\n",
       "    <tr>\n",
       "      <th>7</th>\n",
       "      <td>-0.832423</td>\n",
       "      <td>0.159352</td>\n",
       "      <td>1.934367</td>\n",
       "      <td>0.290369</td>\n",
       "      <td>1.261966</td>\n",
       "      <td>-0.628316</td>\n",
       "      <td>1.290735</td>\n",
       "      <td>-0.674457</td>\n",
       "      <td>2.130699</td>\n",
       "    </tr>\n",
       "    <tr>\n",
       "      <th>8</th>\n",
       "      <td>-0.844858</td>\n",
       "      <td>0.928521</td>\n",
       "      <td>2.284104</td>\n",
       "      <td>1.079305</td>\n",
       "      <td>1.355617</td>\n",
       "      <td>-0.655549</td>\n",
       "      <td>1.121559</td>\n",
       "      <td>-0.999109</td>\n",
       "      <td>1.857082</td>\n",
       "    </tr>\n",
       "    <tr>\n",
       "      <th>9</th>\n",
       "      <td>0.023128</td>\n",
       "      <td>-0.237137</td>\n",
       "      <td>-0.397182</td>\n",
       "      <td>-0.366781</td>\n",
       "      <td>-0.059556</td>\n",
       "      <td>0.571037</td>\n",
       "      <td>-0.164178</td>\n",
       "      <td>-0.681083</td>\n",
       "      <td>-0.389857</td>\n",
       "    </tr>\n",
       "  </tbody>\n",
       "</table>\n",
       "</div>"
      ],
      "text/plain": [
       "   child_mort   exports    health   imports    income  inflation  life_expec  \\\n",
       "0    1.291532 -0.411011 -0.565040 -0.432276 -0.808245   0.157336   -1.619092   \n",
       "1   -0.538949 -0.350191 -0.439218 -0.313677 -0.375369  -0.312347    0.647866   \n",
       "2   -0.272833 -0.318526 -0.484826 -0.353720 -0.220844   0.789274    0.670423   \n",
       "3    2.007808 -0.291375 -0.532363 -0.345953 -0.585043   1.387054   -1.179234   \n",
       "4   -0.695634 -0.104331 -0.178771  0.040735  0.101732  -0.601749    0.704258   \n",
       "5   -0.591177 -0.305464 -0.123849 -0.336841  0.080920   1.244725    0.591474   \n",
       "6   -0.501643 -0.376722 -0.509493 -0.349751 -0.543421  -0.001123    0.309514   \n",
       "7   -0.832423  0.159352  1.934367  0.290369  1.261966  -0.628316    1.290735   \n",
       "8   -0.844858  0.928521  2.284104  1.079305  1.355617  -0.655549    1.121559   \n",
       "9    0.023128 -0.237137 -0.397182 -0.366781 -0.059556   0.571037   -0.164178   \n",
       "\n",
       "   total_fer      gdpp  \n",
       "0   1.902882 -0.679180  \n",
       "1  -0.859973 -0.485623  \n",
       "2  -0.038404 -0.465376  \n",
       "3   2.128151 -0.516268  \n",
       "4  -0.541946 -0.041817  \n",
       "5  -0.382933 -0.145791  \n",
       "6  -0.833471 -0.533233  \n",
       "7  -0.674457  2.130699  \n",
       "8  -0.999109  1.857082  \n",
       "9  -0.681083 -0.389857  "
      ]
     },
     "execution_count": 14,
     "metadata": {},
     "output_type": "execute_result"
    }
   ],
   "source": [
    "df_naty.head(10)"
   ]
  },
  {
   "cell_type": "code",
   "execution_count": 15,
   "metadata": {},
   "outputs": [],
   "source": [
    "df_nat=pd.concat([df_nat.country,df_naty], axis=1)"
   ]
  },
  {
   "cell_type": "code",
   "execution_count": 16,
   "metadata": {},
   "outputs": [
    {
     "data": {
      "text/html": [
       "<div>\n",
       "<style scoped>\n",
       "    .dataframe tbody tr th:only-of-type {\n",
       "        vertical-align: middle;\n",
       "    }\n",
       "\n",
       "    .dataframe tbody tr th {\n",
       "        vertical-align: top;\n",
       "    }\n",
       "\n",
       "    .dataframe thead th {\n",
       "        text-align: right;\n",
       "    }\n",
       "</style>\n",
       "<table border=\"1\" class=\"dataframe\">\n",
       "  <thead>\n",
       "    <tr style=\"text-align: right;\">\n",
       "      <th></th>\n",
       "      <th>country</th>\n",
       "      <th>child_mort</th>\n",
       "      <th>exports</th>\n",
       "      <th>health</th>\n",
       "      <th>imports</th>\n",
       "      <th>income</th>\n",
       "      <th>inflation</th>\n",
       "      <th>life_expec</th>\n",
       "      <th>total_fer</th>\n",
       "      <th>gdpp</th>\n",
       "    </tr>\n",
       "  </thead>\n",
       "  <tbody>\n",
       "    <tr>\n",
       "      <th>0</th>\n",
       "      <td>Afghanistan</td>\n",
       "      <td>1.291532</td>\n",
       "      <td>-0.411011</td>\n",
       "      <td>-0.565040</td>\n",
       "      <td>-0.432276</td>\n",
       "      <td>-0.808245</td>\n",
       "      <td>0.157336</td>\n",
       "      <td>-1.619092</td>\n",
       "      <td>1.902882</td>\n",
       "      <td>-0.679180</td>\n",
       "    </tr>\n",
       "    <tr>\n",
       "      <th>1</th>\n",
       "      <td>Albania</td>\n",
       "      <td>-0.538949</td>\n",
       "      <td>-0.350191</td>\n",
       "      <td>-0.439218</td>\n",
       "      <td>-0.313677</td>\n",
       "      <td>-0.375369</td>\n",
       "      <td>-0.312347</td>\n",
       "      <td>0.647866</td>\n",
       "      <td>-0.859973</td>\n",
       "      <td>-0.485623</td>\n",
       "    </tr>\n",
       "    <tr>\n",
       "      <th>2</th>\n",
       "      <td>Algeria</td>\n",
       "      <td>-0.272833</td>\n",
       "      <td>-0.318526</td>\n",
       "      <td>-0.484826</td>\n",
       "      <td>-0.353720</td>\n",
       "      <td>-0.220844</td>\n",
       "      <td>0.789274</td>\n",
       "      <td>0.670423</td>\n",
       "      <td>-0.038404</td>\n",
       "      <td>-0.465376</td>\n",
       "    </tr>\n",
       "    <tr>\n",
       "      <th>3</th>\n",
       "      <td>Angola</td>\n",
       "      <td>2.007808</td>\n",
       "      <td>-0.291375</td>\n",
       "      <td>-0.532363</td>\n",
       "      <td>-0.345953</td>\n",
       "      <td>-0.585043</td>\n",
       "      <td>1.387054</td>\n",
       "      <td>-1.179234</td>\n",
       "      <td>2.128151</td>\n",
       "      <td>-0.516268</td>\n",
       "    </tr>\n",
       "    <tr>\n",
       "      <th>4</th>\n",
       "      <td>Antigua and Barbuda</td>\n",
       "      <td>-0.695634</td>\n",
       "      <td>-0.104331</td>\n",
       "      <td>-0.178771</td>\n",
       "      <td>0.040735</td>\n",
       "      <td>0.101732</td>\n",
       "      <td>-0.601749</td>\n",
       "      <td>0.704258</td>\n",
       "      <td>-0.541946</td>\n",
       "      <td>-0.041817</td>\n",
       "    </tr>\n",
       "  </tbody>\n",
       "</table>\n",
       "</div>"
      ],
      "text/plain": [
       "               country  child_mort   exports    health   imports    income  \\\n",
       "0          Afghanistan    1.291532 -0.411011 -0.565040 -0.432276 -0.808245   \n",
       "1              Albania   -0.538949 -0.350191 -0.439218 -0.313677 -0.375369   \n",
       "2              Algeria   -0.272833 -0.318526 -0.484826 -0.353720 -0.220844   \n",
       "3               Angola    2.007808 -0.291375 -0.532363 -0.345953 -0.585043   \n",
       "4  Antigua and Barbuda   -0.695634 -0.104331 -0.178771  0.040735  0.101732   \n",
       "\n",
       "   inflation  life_expec  total_fer      gdpp  \n",
       "0   0.157336   -1.619092   1.902882 -0.679180  \n",
       "1  -0.312347    0.647866  -0.859973 -0.485623  \n",
       "2   0.789274    0.670423  -0.038404 -0.465376  \n",
       "3   1.387054   -1.179234   2.128151 -0.516268  \n",
       "4  -0.601749    0.704258  -0.541946 -0.041817  "
      ]
     },
     "execution_count": 16,
     "metadata": {},
     "output_type": "execute_result"
    }
   ],
   "source": [
    "df_nat.head()"
   ]
  },
  {
   "cell_type": "code",
   "execution_count": 17,
   "metadata": {},
   "outputs": [
    {
     "data": {
      "image/png": "[encoded data removed]",
      "text/plain": [
       "<Figure size 864x576 with 2 Axes>"
      ]
     },
     "metadata": {
      "needs_background": "light"
     },
     "output_type": "display_data"
    }
   ],
   "source": [
    "fig = plt.figure(figsize = (12,8))\n",
    "sns.heatmap(df_naty.corr(), annot=True)\n",
    "plt.show()"
   ]
  },
  {
   "cell_type": "code",
   "execution_count": null,
   "metadata": {},
   "outputs": [],
   "source": []
  },
  {
   "cell_type": "code",
   "execution_count": 18,
   "metadata": {},
   "outputs": [],
   "source": [
    "#Improting the PCA module\n",
    "from sklearn.decomposition import PCA\n",
    "pca = PCA(svd_solver='randomized', random_state=42)"
   ]
  },
  {
   "cell_type": "code",
   "execution_count": 19,
   "metadata": {},
   "outputs": [],
   "source": [
    "df_pca = pca.fit_transform(df_naty)"
   ]
  },
  {
   "cell_type": "code",
   "execution_count": 20,
   "metadata": {},
   "outputs": [
    {
     "data": {
      "text/plain": [
       "array([[-0.31639186,  0.34288671,  0.358535  ,  0.34486492,  0.38004113,\n",
       "        -0.14308531,  0.34385651, -0.30284224,  0.39998795],\n",
       "       [ 0.47626735,  0.39731091,  0.1550529 ,  0.37078075,  0.12838448,\n",
       "         0.22126089, -0.36981973,  0.4597152 ,  0.2006241 ],\n",
       "       [-0.15001225, -0.03057367, -0.07570322, -0.07217386,  0.14576421,\n",
       "         0.94841868,  0.19675173, -0.07783431,  0.01033941],\n",
       "       [-0.14805195,  0.44942527, -0.59971228,  0.46179779, -0.15480592,\n",
       "        -0.00762798, -0.01839465, -0.21392805, -0.36477239],\n",
       "       [ 0.1019948 , -0.03853829, -0.49319984, -0.2527867 ,  0.79407469,\n",
       "        -0.13642345, -0.15404105, -0.02033568,  0.08750149],\n",
       "       [ 0.19658519, -0.03891112,  0.18069888, -0.01217988, -0.03814681,\n",
       "         0.10840284, -0.58600986, -0.75390075,  0.04538167],\n",
       "       [ 0.76126725, -0.01366973, -0.06461567,  0.02718244, -0.02311312,\n",
       "        -0.02207663,  0.58120846, -0.27314534, -0.04402264],\n",
       "       [ 0.00644411, -0.05526371,  0.43007213,  0.1311355 ,  0.3938113 ,\n",
       "        -0.00607016,  0.002966  ,  0.03429334, -0.79902242],\n",
       "       [-0.00495137, -0.71792388, -0.13034593,  0.66568664,  0.07901102,\n",
       "         0.01128137, -0.03159406,  0.02368185,  0.12846398]])"
      ]
     },
     "execution_count": 20,
     "metadata": {},
     "output_type": "execute_result"
    }
   ],
   "source": [
    "pca.components_"
   ]
  },
  {
   "cell_type": "code",
   "execution_count": 21,
   "metadata": {},
   "outputs": [
    {
     "data": {
      "text/plain": [
       "(167, 9)"
      ]
     },
     "execution_count": 21,
     "metadata": {},
     "output_type": "execute_result"
    }
   ],
   "source": [
    "df_pca.shape"
   ]
  },
  {
   "cell_type": "code",
   "execution_count": 22,
   "metadata": {},
   "outputs": [
    {
     "data": {
      "image/png": "[encoded data removed]",
      "text/plain": [
       "<Figure size 864x576 with 1 Axes>"
      ]
     },
     "metadata": {
      "needs_background": "light"
     },
     "output_type": "display_data"
    }
   ],
   "source": [
    "#Making the screeplot - plotting the cumulative variance against the number of components\n",
    "%matplotlib inline\n",
    "fig = plt.figure(figsize = (12,8))\n",
    "plt.plot(np.cumsum(pca.explained_variance_ratio_))\n",
    "plt.title('Scree Plot')\n",
    "plt.xlabel('number of components')\n",
    "plt.ylabel('cumulative explained variance')\n",
    "plt.show()"
   ]
  },
  {
   "cell_type": "code",
   "execution_count": 23,
   "metadata": {},
   "outputs": [
    {
     "data": {
      "text/plain": [
       "array([5.89372984e-01, 1.84451685e-01, 9.91147170e-02, 6.07227801e-02,\n",
       "       3.02917253e-02, 2.45982702e-02, 9.39743701e-03, 1.55641971e-03,\n",
       "       4.93981394e-04])"
      ]
     },
     "execution_count": 23,
     "metadata": {},
     "output_type": "execute_result"
    }
   ],
   "source": [
    "pca.explained_variance_ratio_"
   ]
  },
  {
   "cell_type": "code",
   "execution_count": 24,
   "metadata": {},
   "outputs": [
    {
     "data": {
      "text/plain": [
       "(167, 4)"
      ]
     },
     "execution_count": 24,
     "metadata": {},
     "output_type": "execute_result"
    }
   ],
   "source": [
    "pca_final = PCA(svd_solver='randomized', random_state=42, n_components=4)\n",
    "df_pca = pca_final.fit_transform(df_pca)\n",
    "df_pca.shape"
   ]
  },
  {
   "cell_type": "code",
   "execution_count": null,
   "metadata": {},
   "outputs": [],
   "source": []
  },
  {
   "cell_type": "code",
   "execution_count": 25,
   "metadata": {
    "scrolled": true
   },
   "outputs": [
    {
     "data": {
      "text/plain": [
       "array([[ 1.00000000e+00,  0.00000000e+00, -0.00000000e+00,\n",
       "        -0.00000000e+00, -0.00000000e+00, -0.00000000e+00,\n",
       "        -0.00000000e+00, -0.00000000e+00, -0.00000000e+00],\n",
       "       [-0.00000000e+00,  1.00000000e+00, -5.55111512e-17,\n",
       "         2.77555756e-16, -4.85722573e-17,  1.90819582e-17,\n",
       "         4.85722573e-17,  2.08166817e-17, -8.67361738e-18],\n",
       "       [-0.00000000e+00,  2.22044605e-16,  1.00000000e+00,\n",
       "         5.36376499e-15, -1.47451495e-17,  1.84314369e-17,\n",
       "        -2.28983499e-16,  8.67361738e-19,  1.64798730e-17],\n",
       "       [-0.00000000e+00, -2.77555756e-16, -4.48946436e-15,\n",
       "         1.00000000e+00, -3.46077333e-16, -2.23128807e-16,\n",
       "        -2.34187669e-17,  4.33680869e-18, -8.67361738e-19]])"
      ]
     },
     "execution_count": 25,
     "metadata": {},
     "output_type": "execute_result"
    }
   ],
   "source": [
    "pca_final.components_"
   ]
  },
  {
   "cell_type": "code",
   "execution_count": 92,
   "metadata": {},
   "outputs": [
    {
     "data": {
      "text/html": [
       "<div>\n",
       "<style scoped>\n",
       "    .dataframe tbody tr th:only-of-type {\n",
       "        vertical-align: middle;\n",
       "    }\n",
       "\n",
       "    .dataframe tbody tr th {\n",
       "        vertical-align: top;\n",
       "    }\n",
       "\n",
       "    .dataframe thead th {\n",
       "        text-align: right;\n",
       "    }\n",
       "</style>\n",
       "<table border=\"1\" class=\"dataframe\">\n",
       "  <thead>\n",
       "    <tr style=\"text-align: right;\">\n",
       "      <th></th>\n",
       "      <th>PC1</th>\n",
       "      <th>PC2</th>\n",
       "      <th>PC3</th>\n",
       "      <th>PC4</th>\n",
       "      <th>Feature</th>\n",
       "    </tr>\n",
       "  </thead>\n",
       "  <tbody>\n",
       "    <tr>\n",
       "      <th>0</th>\n",
       "      <td>1.0</td>\n",
       "      <td>-0.000000e+00</td>\n",
       "      <td>-0.000000e+00</td>\n",
       "      <td>-0.000000e+00</td>\n",
       "      <td>child_mort</td>\n",
       "    </tr>\n",
       "    <tr>\n",
       "      <th>1</th>\n",
       "      <td>0.0</td>\n",
       "      <td>1.000000e+00</td>\n",
       "      <td>2.220446e-16</td>\n",
       "      <td>-2.775558e-16</td>\n",
       "      <td>exports</td>\n",
       "    </tr>\n",
       "    <tr>\n",
       "      <th>2</th>\n",
       "      <td>-0.0</td>\n",
       "      <td>-5.551115e-17</td>\n",
       "      <td>1.000000e+00</td>\n",
       "      <td>-4.489464e-15</td>\n",
       "      <td>health</td>\n",
       "    </tr>\n",
       "    <tr>\n",
       "      <th>3</th>\n",
       "      <td>-0.0</td>\n",
       "      <td>2.775558e-16</td>\n",
       "      <td>5.363765e-15</td>\n",
       "      <td>1.000000e+00</td>\n",
       "      <td>imports</td>\n",
       "    </tr>\n",
       "    <tr>\n",
       "      <th>4</th>\n",
       "      <td>-0.0</td>\n",
       "      <td>-4.857226e-17</td>\n",
       "      <td>-1.474515e-17</td>\n",
       "      <td>-3.460773e-16</td>\n",
       "      <td>income</td>\n",
       "    </tr>\n",
       "    <tr>\n",
       "      <th>5</th>\n",
       "      <td>-0.0</td>\n",
       "      <td>1.908196e-17</td>\n",
       "      <td>1.843144e-17</td>\n",
       "      <td>-2.231288e-16</td>\n",
       "      <td>inflation</td>\n",
       "    </tr>\n",
       "    <tr>\n",
       "      <th>6</th>\n",
       "      <td>-0.0</td>\n",
       "      <td>4.857226e-17</td>\n",
       "      <td>-2.289835e-16</td>\n",
       "      <td>-2.341877e-17</td>\n",
       "      <td>life_expec</td>\n",
       "    </tr>\n",
       "    <tr>\n",
       "      <th>7</th>\n",
       "      <td>-0.0</td>\n",
       "      <td>2.081668e-17</td>\n",
       "      <td>8.673617e-19</td>\n",
       "      <td>4.336809e-18</td>\n",
       "      <td>total_fer</td>\n",
       "    </tr>\n",
       "    <tr>\n",
       "      <th>8</th>\n",
       "      <td>-0.0</td>\n",
       "      <td>-8.673617e-18</td>\n",
       "      <td>1.647987e-17</td>\n",
       "      <td>-8.673617e-19</td>\n",
       "      <td>gdpp</td>\n",
       "    </tr>\n",
       "  </tbody>\n",
       "</table>\n",
       "</div>"
      ],
      "text/plain": [
       "   PC1           PC2           PC3           PC4     Feature\n",
       "0  1.0 -0.000000e+00 -0.000000e+00 -0.000000e+00  child_mort\n",
       "1  0.0  1.000000e+00  2.220446e-16 -2.775558e-16     exports\n",
       "2 -0.0 -5.551115e-17  1.000000e+00 -4.489464e-15      health\n",
       "3 -0.0  2.775558e-16  5.363765e-15  1.000000e+00     imports\n",
       "4 -0.0 -4.857226e-17 -1.474515e-17 -3.460773e-16      income\n",
       "5 -0.0  1.908196e-17  1.843144e-17 -2.231288e-16   inflation\n",
       "6 -0.0  4.857226e-17 -2.289835e-16 -2.341877e-17  life_expec\n",
       "7 -0.0  2.081668e-17  8.673617e-19  4.336809e-18   total_fer\n",
       "8 -0.0 -8.673617e-18  1.647987e-17 -8.673617e-19        gdpp"
      ]
     },
     "execution_count": 92,
     "metadata": {},
     "output_type": "execute_result"
    }
   ],
   "source": [
    "colnames = list(df_naty.columns)\n",
    "pcs_df = pd.DataFrame({'PC1':pca_final.components_[0],'PC2':pca_final.components_[1],\n",
    "                       'PC3':pca_final.components_[2],'PC4':pca_final.components_[3],'Feature':colnames})\n",
    "pcs_df.head(10)"
   ]
  },
  {
   "cell_type": "code",
   "execution_count": 93,
   "metadata": {},
   "outputs": [
    {
     "data": {
      "image/png": "[encoded data removed]",
      "text/plain": [
       "<Figure size 576x432 with 1 Axes>"
      ]
     },
     "metadata": {
      "needs_background": "light"
     },
     "output_type": "display_data"
    }
   ],
   "source": [
    "\n",
    "%matplotlib inline\n",
    "fig = plt.figure(figsize = (8,6))\n",
    "plt.scatter(pcs_df.PC1, pcs_df.PC2)\n",
    "plt.xlabel('Principal Component 1')\n",
    "plt.ylabel('Principal Component 2')\n",
    "for i, txt in enumerate(pcs_df.Feature):\n",
    "    plt.annotate(txt, (pcs_df.PC1[i],pcs_df.PC2[i]))\n",
    "plt.tight_layout()\n",
    "plt.show()"
   ]
  },
  {
   "cell_type": "code",
   "execution_count": 29,
   "metadata": {},
   "outputs": [
    {
     "data": {
      "text/plain": [
       "<matplotlib.axes._subplots.AxesSubplot at 0x1a59c5529b0>"
      ]
     },
     "execution_count": 29,
     "metadata": {},
     "output_type": "execute_result"
    },
    {
     "data": {
      "image/png": "[encoded data removed]",
      "text/plain": [
       "<Figure size 720x576 with 2 Axes>"
      ]
     },
     "metadata": {
      "needs_background": "light"
     },
     "output_type": "display_data"
    }
   ],
   "source": [
    "#plotting the correlation matrix\n",
    "%matplotlib inline\n",
    "plt.figure(figsize = (10,8))\n",
    "sns.heatmap(pcs_df.corr(),annot = True)"
   ]
  },
  {
   "cell_type": "code",
   "execution_count": 30,
   "metadata": {},
   "outputs": [
    {
     "data": {
      "image/png": "[encoded data removed]",
      "text/plain": [
       "<Figure size 576x432 with 1 Axes>"
      ]
     },
     "metadata": {
      "needs_background": "light"
     },
     "output_type": "display_data"
    }
   ],
   "source": [
    "%matplotlib inline\n",
    "fig = plt.figure(figsize = (8,6))\n",
    "plt.scatter(df_pca[:,0], df_pca[:,1])\n",
    "plt.xlabel('Principal Component 1')\n",
    "plt.ylabel('Principal Component 2')\n",
    "plt.tight_layout()\n",
    "plt.show()"
   ]
  },
  {
   "cell_type": "code",
   "execution_count": null,
   "metadata": {},
   "outputs": [],
   "source": []
  },
  {
   "cell_type": "code",
   "execution_count": 31,
   "metadata": {},
   "outputs": [
    {
     "data": {
      "text/html": [
       "<div>\n",
       "<style scoped>\n",
       "    .dataframe tbody tr th:only-of-type {\n",
       "        vertical-align: middle;\n",
       "    }\n",
       "\n",
       "    .dataframe tbody tr th {\n",
       "        vertical-align: top;\n",
       "    }\n",
       "\n",
       "    .dataframe thead th {\n",
       "        text-align: right;\n",
       "    }\n",
       "</style>\n",
       "<table border=\"1\" class=\"dataframe\">\n",
       "  <thead>\n",
       "    <tr style=\"text-align: right;\">\n",
       "      <th></th>\n",
       "      <th>PC1</th>\n",
       "      <th>PC2</th>\n",
       "      <th>PC3</th>\n",
       "      <th>PC4</th>\n",
       "      <th>Feature</th>\n",
       "    </tr>\n",
       "  </thead>\n",
       "  <tbody>\n",
       "    <tr>\n",
       "      <th>0</th>\n",
       "      <td>-0.316392</td>\n",
       "      <td>0.476267</td>\n",
       "      <td>-0.150012</td>\n",
       "      <td>-0.148052</td>\n",
       "      <td>child_mort</td>\n",
       "    </tr>\n",
       "    <tr>\n",
       "      <th>1</th>\n",
       "      <td>0.342887</td>\n",
       "      <td>0.397311</td>\n",
       "      <td>-0.030574</td>\n",
       "      <td>0.449425</td>\n",
       "      <td>exports</td>\n",
       "    </tr>\n",
       "    <tr>\n",
       "      <th>2</th>\n",
       "      <td>0.358535</td>\n",
       "      <td>0.155053</td>\n",
       "      <td>-0.075703</td>\n",
       "      <td>-0.599712</td>\n",
       "      <td>health</td>\n",
       "    </tr>\n",
       "    <tr>\n",
       "      <th>3</th>\n",
       "      <td>0.344865</td>\n",
       "      <td>0.370781</td>\n",
       "      <td>-0.072174</td>\n",
       "      <td>0.461798</td>\n",
       "      <td>imports</td>\n",
       "    </tr>\n",
       "    <tr>\n",
       "      <th>4</th>\n",
       "      <td>0.380041</td>\n",
       "      <td>0.128384</td>\n",
       "      <td>0.145764</td>\n",
       "      <td>-0.154806</td>\n",
       "      <td>income</td>\n",
       "    </tr>\n",
       "    <tr>\n",
       "      <th>5</th>\n",
       "      <td>-0.143085</td>\n",
       "      <td>0.221261</td>\n",
       "      <td>0.948419</td>\n",
       "      <td>-0.007628</td>\n",
       "      <td>inflation</td>\n",
       "    </tr>\n",
       "    <tr>\n",
       "      <th>6</th>\n",
       "      <td>0.343857</td>\n",
       "      <td>-0.369820</td>\n",
       "      <td>0.196752</td>\n",
       "      <td>-0.018395</td>\n",
       "      <td>life_expec</td>\n",
       "    </tr>\n",
       "    <tr>\n",
       "      <th>7</th>\n",
       "      <td>-0.302842</td>\n",
       "      <td>0.459715</td>\n",
       "      <td>-0.077834</td>\n",
       "      <td>-0.213928</td>\n",
       "      <td>total_fer</td>\n",
       "    </tr>\n",
       "    <tr>\n",
       "      <th>8</th>\n",
       "      <td>0.399988</td>\n",
       "      <td>0.200624</td>\n",
       "      <td>0.010339</td>\n",
       "      <td>-0.364772</td>\n",
       "      <td>gdpp</td>\n",
       "    </tr>\n",
       "  </tbody>\n",
       "</table>\n",
       "</div>"
      ],
      "text/plain": [
       "        PC1       PC2       PC3       PC4     Feature\n",
       "0 -0.316392  0.476267 -0.150012 -0.148052  child_mort\n",
       "1  0.342887  0.397311 -0.030574  0.449425     exports\n",
       "2  0.358535  0.155053 -0.075703 -0.599712      health\n",
       "3  0.344865  0.370781 -0.072174  0.461798     imports\n",
       "4  0.380041  0.128384  0.145764 -0.154806      income\n",
       "5 -0.143085  0.221261  0.948419 -0.007628   inflation\n",
       "6  0.343857 -0.369820  0.196752 -0.018395  life_expec\n",
       "7 -0.302842  0.459715 -0.077834 -0.213928   total_fer\n",
       "8  0.399988  0.200624  0.010339 -0.364772        gdpp"
      ]
     },
     "execution_count": 31,
     "metadata": {},
     "output_type": "execute_result"
    }
   ],
   "source": [
    "\n",
    "#converting components(eigen vectors) into a dataframe\n",
    "colnames = list(df_naty.columns)\n",
    "pcs_df = pd.DataFrame({'PC1':pca.components_[0],'PC2':pca.components_[1],\n",
    "                         'PC3':pca.components_[2],'PC4':pca.components_[3],'Feature':colnames})\n",
    "pcs_df.head(10)"
   ]
  },
  {
   "cell_type": "code",
   "execution_count": 32,
   "metadata": {},
   "outputs": [],
   "source": [
    "#clustering\n",
    "\n",
    "\n",
    "from sklearn.neighbors import NearestNeighbors\n",
    "from random import sample\n",
    "from numpy.random import uniform\n",
    "import numpy as np\n",
    "from math import isnan\n",
    " \n",
    "def hopkins(X):\n",
    "    d = X.shape[1]\n",
    "    #d = len(vars) # columns\n",
    "    n = len(X) # rows\n",
    "    m = int(0.1 * n) \n",
    "    nbrs = NearestNeighbors(n_neighbors=1).fit(X.values)\n",
    " \n",
    "    rand_X = sample(range(0, n, 1), m)\n",
    " \n",
    "    ujd = []\n",
    "    wjd = []\n",
    "    for j in range(0, m):\n",
    "        u_dist, _ = nbrs.kneighbors(uniform(np.amin(X,axis=0),np.amax(X,axis=0),d).reshape(1, -1), 2, return_distance=True)\n",
    "        ujd.append(u_dist[0][1])\n",
    "        w_dist, _ = nbrs.kneighbors(X.iloc[rand_X[j]].values.reshape(1, -1), 2, return_distance=True)\n",
    "        wjd.append(w_dist[0][1])\n",
    " \n",
    "    H = sum(ujd) / (sum(ujd) + sum(wjd))\n",
    "    if isnan(H):\n",
    "        print(ujd, wjd)\n",
    "        H = 0\n",
    " \n",
    "    return H"
   ]
  },
  {
   "cell_type": "code",
   "execution_count": 33,
   "metadata": {},
   "outputs": [
    {
     "data": {
      "text/html": [
       "<div>\n",
       "<style scoped>\n",
       "    .dataframe tbody tr th:only-of-type {\n",
       "        vertical-align: middle;\n",
       "    }\n",
       "\n",
       "    .dataframe tbody tr th {\n",
       "        vertical-align: top;\n",
       "    }\n",
       "\n",
       "    .dataframe thead th {\n",
       "        text-align: right;\n",
       "    }\n",
       "</style>\n",
       "<table border=\"1\" class=\"dataframe\">\n",
       "  <thead>\n",
       "    <tr style=\"text-align: right;\">\n",
       "      <th></th>\n",
       "      <th>PC1</th>\n",
       "      <th>PC2</th>\n",
       "      <th>PC3</th>\n",
       "      <th>PC4</th>\n",
       "    </tr>\n",
       "  </thead>\n",
       "  <tbody>\n",
       "    <tr>\n",
       "      <th>0</th>\n",
       "      <td>-2.635575</td>\n",
       "      <td>1.472267</td>\n",
       "      <td>-0.549489</td>\n",
       "      <td>-0.242326</td>\n",
       "    </tr>\n",
       "    <tr>\n",
       "      <th>1</th>\n",
       "      <td>-0.024206</td>\n",
       "      <td>-1.429892</td>\n",
       "      <td>-0.014123</td>\n",
       "      <td>0.450645</td>\n",
       "    </tr>\n",
       "    <tr>\n",
       "      <th>2</th>\n",
       "      <td>-0.459557</td>\n",
       "      <td>-0.675495</td>\n",
       "      <td>0.959355</td>\n",
       "      <td>0.218456</td>\n",
       "    </tr>\n",
       "    <tr>\n",
       "      <th>3</th>\n",
       "      <td>-2.722630</td>\n",
       "      <td>2.172332</td>\n",
       "      <td>0.600215</td>\n",
       "      <td>-0.433978</td>\n",
       "    </tr>\n",
       "    <tr>\n",
       "      <th>4</th>\n",
       "      <td>0.648597</td>\n",
       "      <td>-1.023437</td>\n",
       "      <td>-0.257430</td>\n",
       "      <td>0.289201</td>\n",
       "    </tr>\n",
       "    <tr>\n",
       "      <th>5</th>\n",
       "      <td>0.035422</td>\n",
       "      <td>-0.685251</td>\n",
       "      <td>1.468697</td>\n",
       "      <td>-0.028838</td>\n",
       "    </tr>\n",
       "    <tr>\n",
       "      <th>6</th>\n",
       "      <td>-0.334555</td>\n",
       "      <td>-1.271889</td>\n",
       "      <td>0.190564</td>\n",
       "      <td>0.500247</td>\n",
       "    </tr>\n",
       "    <tr>\n",
       "      <th>7</th>\n",
       "      <td>3.181525</td>\n",
       "      <td>-0.262485</td>\n",
       "      <td>-0.130870</td>\n",
       "      <td>-1.678358</td>\n",
       "    </tr>\n",
       "    <tr>\n",
       "      <th>8</th>\n",
       "      <td>3.816857</td>\n",
       "      <td>0.248363</td>\n",
       "      <td>-0.258960</td>\n",
       "      <td>-1.018163</td>\n",
       "    </tr>\n",
       "    <tr>\n",
       "      <th>9</th>\n",
       "      <td>-0.467995</td>\n",
       "      <td>-0.492682</td>\n",
       "      <td>0.609900</td>\n",
       "      <td>0.254612</td>\n",
       "    </tr>\n",
       "  </tbody>\n",
       "</table>\n",
       "</div>"
      ],
      "text/plain": [
       "        PC1       PC2       PC3       PC4\n",
       "0 -2.635575  1.472267 -0.549489 -0.242326\n",
       "1 -0.024206 -1.429892 -0.014123  0.450645\n",
       "2 -0.459557 -0.675495  0.959355  0.218456\n",
       "3 -2.722630  2.172332  0.600215 -0.433978\n",
       "4  0.648597 -1.023437 -0.257430  0.289201\n",
       "5  0.035422 -0.685251  1.468697 -0.028838\n",
       "6 -0.334555 -1.271889  0.190564  0.500247\n",
       "7  3.181525 -0.262485 -0.130870 -1.678358\n",
       "8  3.816857  0.248363 -0.258960 -1.018163\n",
       "9 -0.467995 -0.492682  0.609900  0.254612"
      ]
     },
     "execution_count": 33,
     "metadata": {},
     "output_type": "execute_result"
    }
   ],
   "source": [
    "pcs_df = pd.DataFrame({'PC1':df_pca[:,0],'PC2':df_pca[:,1], 'PC3':df_pca[:,2],'PC4':df_pca[:,3]})\n",
    "pcs_df.head(10)"
   ]
  },
  {
   "cell_type": "code",
   "execution_count": 34,
   "metadata": {},
   "outputs": [
    {
     "data": {
      "text/plain": [
       "0.8791500593549888"
      ]
     },
     "execution_count": 34,
     "metadata": {},
     "output_type": "execute_result"
    }
   ],
   "source": [
    "hopkins(pcs_df)"
   ]
  },
  {
   "cell_type": "code",
   "execution_count": 35,
   "metadata": {},
   "outputs": [],
   "source": [
    "#Importing Libraries\n",
    "import pandas as pd\n",
    "\n",
    "# For Visualisation\n",
    "import matplotlib.pyplot as plt\n",
    "import seaborn as sns\n",
    "%matplotlib inline\n",
    "\n",
    "# To Scale our data\n",
    "from sklearn.preprocessing import scale\n",
    "\n",
    "# To perform KMeans clustering \n",
    "from sklearn.cluster import KMeans\n",
    "\n",
    "# To perform Hierarchical clustering\n",
    "from scipy.cluster.hierarchy import linkage\n",
    "from scipy.cluster.hierarchy import dendrogram\n",
    "from scipy.cluster.hierarchy import cut_tree"
   ]
  },
  {
   "cell_type": "code",
   "execution_count": 36,
   "metadata": {},
   "outputs": [
    {
     "data": {
      "text/plain": [
       "KMeans(algorithm='auto', copy_x=True, init='k-means++', max_iter=50,\n",
       "    n_clusters=4, n_init=10, n_jobs=None, precompute_distances='auto',\n",
       "    random_state=None, tol=0.0001, verbose=0)"
      ]
     },
     "execution_count": 36,
     "metadata": {},
     "output_type": "execute_result"
    }
   ],
   "source": [
    "# Kmeans with K=5\n",
    "model_clus5 = KMeans(n_clusters = 4, max_iter=50)\n",
    "model_clus5.fit(pcs_df)"
   ]
  },
  {
   "cell_type": "code",
   "execution_count": 37,
   "metadata": {},
   "outputs": [],
   "source": [
    "from sklearn.metrics import silhouette_score\n",
    "sse_ = []\n",
    "for k in range(2, 10):\n",
    "    kmeans = KMeans(n_clusters=k).fit(pcs_df)\n",
    "    sse_.append([k, silhouette_score(pcs_df, kmeans.labels_)])"
   ]
  },
  {
   "cell_type": "code",
   "execution_count": 38,
   "metadata": {},
   "outputs": [
    {
     "data": {
      "image/png": "[encoded data removed]",
      "text/plain": [
       "<Figure size 432x288 with 1 Axes>"
      ]
     },
     "metadata": {
      "needs_background": "light"
     },
     "output_type": "display_data"
    }
   ],
   "source": [
    "plt.plot(pd.DataFrame(sse_)[0], pd.DataFrame(sse_)[1])\n",
    "plt.show()"
   ]
  },
  {
   "cell_type": "code",
   "execution_count": 39,
   "metadata": {},
   "outputs": [
    {
     "data": {
      "text/plain": [
       "[<matplotlib.lines.Line2D at 0x1a59c629f28>]"
      ]
     },
     "execution_count": 39,
     "metadata": {},
     "output_type": "execute_result"
    },
    {
     "data": {
      "image/png": "[encoded data removed]",
      "text/plain": [
       "<Figure size 432x288 with 1 Axes>"
      ]
     },
     "metadata": {
      "needs_background": "light"
     },
     "output_type": "display_data"
    }
   ],
   "source": [
    "# sum of squared distances\n",
    "ssd = []\n",
    "for num_clusters in list(range(1,21)):\n",
    "    model_clus = KMeans(n_clusters = num_clusters, max_iter=50)\n",
    "    model_clus.fit(pcs_df)\n",
    "    ssd.append(model_clus.inertia_)\n",
    "\n",
    "plt.plot(ssd)\n"
   ]
  },
  {
   "cell_type": "code",
   "execution_count": null,
   "metadata": {},
   "outputs": [],
   "source": []
  },
  {
   "cell_type": "code",
   "execution_count": 40,
   "metadata": {},
   "outputs": [
    {
     "data": {
      "text/plain": [
       "KMeans(algorithm='auto', copy_x=True, init='k-means++', max_iter=50,\n",
       "    n_clusters=4, n_init=10, n_jobs=None, precompute_distances='auto',\n",
       "    random_state=0, tol=0.0001, verbose=0)"
      ]
     },
     "execution_count": 40,
     "metadata": {},
     "output_type": "execute_result"
    }
   ],
   "source": [
    "# Kmeans with K=4\n",
    "model_clus4 = KMeans(n_clusters = 4, max_iter=50, random_state=0)\n",
    "model_clus4.fit(pcs_df)"
   ]
  },
  {
   "cell_type": "code",
   "execution_count": 41,
   "metadata": {},
   "outputs": [
    {
     "data": {
      "text/plain": [
       "array([1, 0, 0, 1, 0, 0, 0, 2, 2, 0, 0, 0, 0, 0, 0, 2, 0, 1, 0, 0, 0, 1,\n",
       "       0, 2, 0, 1, 1, 0, 1, 2, 0, 1, 1, 0, 0, 0, 1, 1, 1, 0, 1, 0, 2, 0,\n",
       "       2, 0, 0, 0, 0, 1, 1, 0, 0, 2, 2, 1, 1, 0, 2, 1, 2, 0, 0, 1, 1, 0,\n",
       "       1, 0, 2, 0, 0, 0, 1, 2, 2, 2, 0, 2, 0, 0, 1, 1, 2, 0, 1, 0, 0, 1,\n",
       "       1, 0, 0, 3, 0, 1, 1, 0, 0, 1, 2, 1, 0, 0, 0, 0, 0, 0, 1, 0, 1, 0,\n",
       "       2, 2, 1, 1, 2, 0, 1, 0, 0, 0, 0, 0, 0, 2, 0, 0, 1, 0, 0, 1, 0, 0,\n",
       "       1, 3, 0, 2, 1, 1, 0, 2, 0, 0, 1, 0, 2, 2, 0, 1, 0, 1, 1, 0, 0, 0,\n",
       "       0, 1, 0, 2, 2, 2, 0, 0, 0, 0, 0, 1, 1])"
      ]
     },
     "execution_count": 41,
     "metadata": {},
     "output_type": "execute_result"
    }
   ],
   "source": [
    "model_clus4.labels_"
   ]
  },
  {
   "cell_type": "code",
   "execution_count": 42,
   "metadata": {},
   "outputs": [
    {
     "name": "stdout",
     "output_type": "stream",
     "text": [
      "<class 'pandas.core.frame.DataFrame'>\n",
      "RangeIndex: 167 entries, 0 to 166\n",
      "Data columns (total 4 columns):\n",
      "PC1    167 non-null float64\n",
      "PC2    167 non-null float64\n",
      "PC3    167 non-null float64\n",
      "PC4    167 non-null float64\n",
      "dtypes: float64(4)\n",
      "memory usage: 5.3 KB\n"
     ]
    }
   ],
   "source": [
    "\n",
    "pcs_df.info()\n",
    "df1 = pd.concat([df_nat,pcs_df], axis=1)"
   ]
  },
  {
   "cell_type": "code",
   "execution_count": 43,
   "metadata": {},
   "outputs": [
    {
     "data": {
      "text/html": [
       "<div>\n",
       "<style scoped>\n",
       "    .dataframe tbody tr th:only-of-type {\n",
       "        vertical-align: middle;\n",
       "    }\n",
       "\n",
       "    .dataframe tbody tr th {\n",
       "        vertical-align: top;\n",
       "    }\n",
       "\n",
       "    .dataframe thead th {\n",
       "        text-align: right;\n",
       "    }\n",
       "</style>\n",
       "<table border=\"1\" class=\"dataframe\">\n",
       "  <thead>\n",
       "    <tr style=\"text-align: right;\">\n",
       "      <th></th>\n",
       "      <th>country</th>\n",
       "      <th>child_mort</th>\n",
       "      <th>exports</th>\n",
       "      <th>health</th>\n",
       "      <th>imports</th>\n",
       "      <th>income</th>\n",
       "      <th>inflation</th>\n",
       "      <th>life_expec</th>\n",
       "      <th>total_fer</th>\n",
       "      <th>gdpp</th>\n",
       "      <th>PC1</th>\n",
       "      <th>PC2</th>\n",
       "      <th>PC3</th>\n",
       "      <th>PC4</th>\n",
       "    </tr>\n",
       "  </thead>\n",
       "  <tbody>\n",
       "    <tr>\n",
       "      <th>0</th>\n",
       "      <td>Afghanistan</td>\n",
       "      <td>1.291532</td>\n",
       "      <td>-0.411011</td>\n",
       "      <td>-0.565040</td>\n",
       "      <td>-0.432276</td>\n",
       "      <td>-0.808245</td>\n",
       "      <td>0.157336</td>\n",
       "      <td>-1.619092</td>\n",
       "      <td>1.902882</td>\n",
       "      <td>-0.679180</td>\n",
       "      <td>-2.635575</td>\n",
       "      <td>1.472267</td>\n",
       "      <td>-0.549489</td>\n",
       "      <td>-0.242326</td>\n",
       "    </tr>\n",
       "    <tr>\n",
       "      <th>1</th>\n",
       "      <td>Albania</td>\n",
       "      <td>-0.538949</td>\n",
       "      <td>-0.350191</td>\n",
       "      <td>-0.439218</td>\n",
       "      <td>-0.313677</td>\n",
       "      <td>-0.375369</td>\n",
       "      <td>-0.312347</td>\n",
       "      <td>0.647866</td>\n",
       "      <td>-0.859973</td>\n",
       "      <td>-0.485623</td>\n",
       "      <td>-0.024206</td>\n",
       "      <td>-1.429892</td>\n",
       "      <td>-0.014123</td>\n",
       "      <td>0.450645</td>\n",
       "    </tr>\n",
       "    <tr>\n",
       "      <th>2</th>\n",
       "      <td>Algeria</td>\n",
       "      <td>-0.272833</td>\n",
       "      <td>-0.318526</td>\n",
       "      <td>-0.484826</td>\n",
       "      <td>-0.353720</td>\n",
       "      <td>-0.220844</td>\n",
       "      <td>0.789274</td>\n",
       "      <td>0.670423</td>\n",
       "      <td>-0.038404</td>\n",
       "      <td>-0.465376</td>\n",
       "      <td>-0.459557</td>\n",
       "      <td>-0.675495</td>\n",
       "      <td>0.959355</td>\n",
       "      <td>0.218456</td>\n",
       "    </tr>\n",
       "    <tr>\n",
       "      <th>3</th>\n",
       "      <td>Angola</td>\n",
       "      <td>2.007808</td>\n",
       "      <td>-0.291375</td>\n",
       "      <td>-0.532363</td>\n",
       "      <td>-0.345953</td>\n",
       "      <td>-0.585043</td>\n",
       "      <td>1.387054</td>\n",
       "      <td>-1.179234</td>\n",
       "      <td>2.128151</td>\n",
       "      <td>-0.516268</td>\n",
       "      <td>-2.722630</td>\n",
       "      <td>2.172332</td>\n",
       "      <td>0.600215</td>\n",
       "      <td>-0.433978</td>\n",
       "    </tr>\n",
       "    <tr>\n",
       "      <th>4</th>\n",
       "      <td>Antigua and Barbuda</td>\n",
       "      <td>-0.695634</td>\n",
       "      <td>-0.104331</td>\n",
       "      <td>-0.178771</td>\n",
       "      <td>0.040735</td>\n",
       "      <td>0.101732</td>\n",
       "      <td>-0.601749</td>\n",
       "      <td>0.704258</td>\n",
       "      <td>-0.541946</td>\n",
       "      <td>-0.041817</td>\n",
       "      <td>0.648597</td>\n",
       "      <td>-1.023437</td>\n",
       "      <td>-0.257430</td>\n",
       "      <td>0.289201</td>\n",
       "    </tr>\n",
       "    <tr>\n",
       "      <th>5</th>\n",
       "      <td>Argentina</td>\n",
       "      <td>-0.591177</td>\n",
       "      <td>-0.305464</td>\n",
       "      <td>-0.123849</td>\n",
       "      <td>-0.336841</td>\n",
       "      <td>0.080920</td>\n",
       "      <td>1.244725</td>\n",
       "      <td>0.591474</td>\n",
       "      <td>-0.382933</td>\n",
       "      <td>-0.145791</td>\n",
       "      <td>0.035422</td>\n",
       "      <td>-0.685251</td>\n",
       "      <td>1.468697</td>\n",
       "      <td>-0.028838</td>\n",
       "    </tr>\n",
       "    <tr>\n",
       "      <th>6</th>\n",
       "      <td>Armenia</td>\n",
       "      <td>-0.501643</td>\n",
       "      <td>-0.376722</td>\n",
       "      <td>-0.509493</td>\n",
       "      <td>-0.349751</td>\n",
       "      <td>-0.543421</td>\n",
       "      <td>-0.001123</td>\n",
       "      <td>0.309514</td>\n",
       "      <td>-0.833471</td>\n",
       "      <td>-0.533233</td>\n",
       "      <td>-0.334555</td>\n",
       "      <td>-1.271889</td>\n",
       "      <td>0.190564</td>\n",
       "      <td>0.500247</td>\n",
       "    </tr>\n",
       "    <tr>\n",
       "      <th>7</th>\n",
       "      <td>Australia</td>\n",
       "      <td>-0.832423</td>\n",
       "      <td>0.159352</td>\n",
       "      <td>1.934367</td>\n",
       "      <td>0.290369</td>\n",
       "      <td>1.261966</td>\n",
       "      <td>-0.628316</td>\n",
       "      <td>1.290735</td>\n",
       "      <td>-0.674457</td>\n",
       "      <td>2.130699</td>\n",
       "      <td>3.181525</td>\n",
       "      <td>-0.262485</td>\n",
       "      <td>-0.130870</td>\n",
       "      <td>-1.678358</td>\n",
       "    </tr>\n",
       "    <tr>\n",
       "      <th>8</th>\n",
       "      <td>Austria</td>\n",
       "      <td>-0.844858</td>\n",
       "      <td>0.928521</td>\n",
       "      <td>2.284104</td>\n",
       "      <td>1.079305</td>\n",
       "      <td>1.355617</td>\n",
       "      <td>-0.655549</td>\n",
       "      <td>1.121559</td>\n",
       "      <td>-0.999109</td>\n",
       "      <td>1.857082</td>\n",
       "      <td>3.816857</td>\n",
       "      <td>0.248363</td>\n",
       "      <td>-0.258960</td>\n",
       "      <td>-1.018163</td>\n",
       "    </tr>\n",
       "    <tr>\n",
       "      <th>9</th>\n",
       "      <td>Azerbaijan</td>\n",
       "      <td>0.023128</td>\n",
       "      <td>-0.237137</td>\n",
       "      <td>-0.397182</td>\n",
       "      <td>-0.366781</td>\n",
       "      <td>-0.059556</td>\n",
       "      <td>0.571037</td>\n",
       "      <td>-0.164178</td>\n",
       "      <td>-0.681083</td>\n",
       "      <td>-0.389857</td>\n",
       "      <td>-0.467995</td>\n",
       "      <td>-0.492682</td>\n",
       "      <td>0.609900</td>\n",
       "      <td>0.254612</td>\n",
       "    </tr>\n",
       "  </tbody>\n",
       "</table>\n",
       "</div>"
      ],
      "text/plain": [
       "               country  child_mort   exports    health   imports    income  \\\n",
       "0          Afghanistan    1.291532 -0.411011 -0.565040 -0.432276 -0.808245   \n",
       "1              Albania   -0.538949 -0.350191 -0.439218 -0.313677 -0.375369   \n",
       "2              Algeria   -0.272833 -0.318526 -0.484826 -0.353720 -0.220844   \n",
       "3               Angola    2.007808 -0.291375 -0.532363 -0.345953 -0.585043   \n",
       "4  Antigua and Barbuda   -0.695634 -0.104331 -0.178771  0.040735  0.101732   \n",
       "5            Argentina   -0.591177 -0.305464 -0.123849 -0.336841  0.080920   \n",
       "6              Armenia   -0.501643 -0.376722 -0.509493 -0.349751 -0.543421   \n",
       "7            Australia   -0.832423  0.159352  1.934367  0.290369  1.261966   \n",
       "8              Austria   -0.844858  0.928521  2.284104  1.079305  1.355617   \n",
       "9           Azerbaijan    0.023128 -0.237137 -0.397182 -0.366781 -0.059556   \n",
       "\n",
       "   inflation  life_expec  total_fer      gdpp       PC1       PC2       PC3  \\\n",
       "0   0.157336   -1.619092   1.902882 -0.679180 -2.635575  1.472267 -0.549489   \n",
       "1  -0.312347    0.647866  -0.859973 -0.485623 -0.024206 -1.429892 -0.014123   \n",
       "2   0.789274    0.670423  -0.038404 -0.465376 -0.459557 -0.675495  0.959355   \n",
       "3   1.387054   -1.179234   2.128151 -0.516268 -2.722630  2.172332  0.600215   \n",
       "4  -0.601749    0.704258  -0.541946 -0.041817  0.648597 -1.023437 -0.257430   \n",
       "5   1.244725    0.591474  -0.382933 -0.145791  0.035422 -0.685251  1.468697   \n",
       "6  -0.001123    0.309514  -0.833471 -0.533233 -0.334555 -1.271889  0.190564   \n",
       "7  -0.628316    1.290735  -0.674457  2.130699  3.181525 -0.262485 -0.130870   \n",
       "8  -0.655549    1.121559  -0.999109  1.857082  3.816857  0.248363 -0.258960   \n",
       "9   0.571037   -0.164178  -0.681083 -0.389857 -0.467995 -0.492682  0.609900   \n",
       "\n",
       "        PC4  \n",
       "0 -0.242326  \n",
       "1  0.450645  \n",
       "2  0.218456  \n",
       "3 -0.433978  \n",
       "4  0.289201  \n",
       "5 -0.028838  \n",
       "6  0.500247  \n",
       "7 -1.678358  \n",
       "8 -1.018163  \n",
       "9  0.254612  "
      ]
     },
     "execution_count": 43,
     "metadata": {},
     "output_type": "execute_result"
    }
   ],
   "source": [
    "df1.head(10)"
   ]
  },
  {
   "cell_type": "code",
   "execution_count": 44,
   "metadata": {},
   "outputs": [],
   "source": [
    "final_df = pd.concat([df1, pd.Series(model_clus4.labels_).rename('ClusterID')], axis=1)"
   ]
  },
  {
   "cell_type": "code",
   "execution_count": 45,
   "metadata": {},
   "outputs": [
    {
     "data": {
      "text/html": [
       "<div>\n",
       "<style scoped>\n",
       "    .dataframe tbody tr th:only-of-type {\n",
       "        vertical-align: middle;\n",
       "    }\n",
       "\n",
       "    .dataframe tbody tr th {\n",
       "        vertical-align: top;\n",
       "    }\n",
       "\n",
       "    .dataframe thead th {\n",
       "        text-align: right;\n",
       "    }\n",
       "</style>\n",
       "<table border=\"1\" class=\"dataframe\">\n",
       "  <thead>\n",
       "    <tr style=\"text-align: right;\">\n",
       "      <th></th>\n",
       "      <th>country</th>\n",
       "      <th>child_mort</th>\n",
       "      <th>exports</th>\n",
       "      <th>health</th>\n",
       "      <th>imports</th>\n",
       "      <th>income</th>\n",
       "      <th>inflation</th>\n",
       "      <th>life_expec</th>\n",
       "      <th>total_fer</th>\n",
       "      <th>gdpp</th>\n",
       "      <th>PC1</th>\n",
       "      <th>PC2</th>\n",
       "      <th>PC3</th>\n",
       "      <th>PC4</th>\n",
       "      <th>ClusterID</th>\n",
       "    </tr>\n",
       "  </thead>\n",
       "  <tbody>\n",
       "    <tr>\n",
       "      <th>0</th>\n",
       "      <td>Afghanistan</td>\n",
       "      <td>1.291532</td>\n",
       "      <td>-0.411011</td>\n",
       "      <td>-0.565040</td>\n",
       "      <td>-0.432276</td>\n",
       "      <td>-0.808245</td>\n",
       "      <td>0.157336</td>\n",
       "      <td>-1.619092</td>\n",
       "      <td>1.902882</td>\n",
       "      <td>-0.679180</td>\n",
       "      <td>-2.635575</td>\n",
       "      <td>1.472267</td>\n",
       "      <td>-0.549489</td>\n",
       "      <td>-0.242326</td>\n",
       "      <td>1</td>\n",
       "    </tr>\n",
       "    <tr>\n",
       "      <th>1</th>\n",
       "      <td>Albania</td>\n",
       "      <td>-0.538949</td>\n",
       "      <td>-0.350191</td>\n",
       "      <td>-0.439218</td>\n",
       "      <td>-0.313677</td>\n",
       "      <td>-0.375369</td>\n",
       "      <td>-0.312347</td>\n",
       "      <td>0.647866</td>\n",
       "      <td>-0.859973</td>\n",
       "      <td>-0.485623</td>\n",
       "      <td>-0.024206</td>\n",
       "      <td>-1.429892</td>\n",
       "      <td>-0.014123</td>\n",
       "      <td>0.450645</td>\n",
       "      <td>0</td>\n",
       "    </tr>\n",
       "    <tr>\n",
       "      <th>2</th>\n",
       "      <td>Algeria</td>\n",
       "      <td>-0.272833</td>\n",
       "      <td>-0.318526</td>\n",
       "      <td>-0.484826</td>\n",
       "      <td>-0.353720</td>\n",
       "      <td>-0.220844</td>\n",
       "      <td>0.789274</td>\n",
       "      <td>0.670423</td>\n",
       "      <td>-0.038404</td>\n",
       "      <td>-0.465376</td>\n",
       "      <td>-0.459557</td>\n",
       "      <td>-0.675495</td>\n",
       "      <td>0.959355</td>\n",
       "      <td>0.218456</td>\n",
       "      <td>0</td>\n",
       "    </tr>\n",
       "    <tr>\n",
       "      <th>3</th>\n",
       "      <td>Angola</td>\n",
       "      <td>2.007808</td>\n",
       "      <td>-0.291375</td>\n",
       "      <td>-0.532363</td>\n",
       "      <td>-0.345953</td>\n",
       "      <td>-0.585043</td>\n",
       "      <td>1.387054</td>\n",
       "      <td>-1.179234</td>\n",
       "      <td>2.128151</td>\n",
       "      <td>-0.516268</td>\n",
       "      <td>-2.722630</td>\n",
       "      <td>2.172332</td>\n",
       "      <td>0.600215</td>\n",
       "      <td>-0.433978</td>\n",
       "      <td>1</td>\n",
       "    </tr>\n",
       "    <tr>\n",
       "      <th>4</th>\n",
       "      <td>Antigua and Barbuda</td>\n",
       "      <td>-0.695634</td>\n",
       "      <td>-0.104331</td>\n",
       "      <td>-0.178771</td>\n",
       "      <td>0.040735</td>\n",
       "      <td>0.101732</td>\n",
       "      <td>-0.601749</td>\n",
       "      <td>0.704258</td>\n",
       "      <td>-0.541946</td>\n",
       "      <td>-0.041817</td>\n",
       "      <td>0.648597</td>\n",
       "      <td>-1.023437</td>\n",
       "      <td>-0.257430</td>\n",
       "      <td>0.289201</td>\n",
       "      <td>0</td>\n",
       "    </tr>\n",
       "  </tbody>\n",
       "</table>\n",
       "</div>"
      ],
      "text/plain": [
       "               country  child_mort   exports    health   imports    income  \\\n",
       "0          Afghanistan    1.291532 -0.411011 -0.565040 -0.432276 -0.808245   \n",
       "1              Albania   -0.538949 -0.350191 -0.439218 -0.313677 -0.375369   \n",
       "2              Algeria   -0.272833 -0.318526 -0.484826 -0.353720 -0.220844   \n",
       "3               Angola    2.007808 -0.291375 -0.532363 -0.345953 -0.585043   \n",
       "4  Antigua and Barbuda   -0.695634 -0.104331 -0.178771  0.040735  0.101732   \n",
       "\n",
       "   inflation  life_expec  total_fer      gdpp       PC1       PC2       PC3  \\\n",
       "0   0.157336   -1.619092   1.902882 -0.679180 -2.635575  1.472267 -0.549489   \n",
       "1  -0.312347    0.647866  -0.859973 -0.485623 -0.024206 -1.429892 -0.014123   \n",
       "2   0.789274    0.670423  -0.038404 -0.465376 -0.459557 -0.675495  0.959355   \n",
       "3   1.387054   -1.179234   2.128151 -0.516268 -2.722630  2.172332  0.600215   \n",
       "4  -0.601749    0.704258  -0.541946 -0.041817  0.648597 -1.023437 -0.257430   \n",
       "\n",
       "        PC4  ClusterID  \n",
       "0 -0.242326          1  \n",
       "1  0.450645          0  \n",
       "2  0.218456          0  \n",
       "3 -0.433978          1  \n",
       "4  0.289201          0  "
      ]
     },
     "execution_count": 45,
     "metadata": {},
     "output_type": "execute_result"
    }
   ],
   "source": [
    "final_df.head()"
   ]
  },
  {
   "cell_type": "code",
   "execution_count": 46,
   "metadata": {},
   "outputs": [
    {
     "data": {
      "image/png": "[encoded data removed]",
      "text/plain": [
       "<Figure size 576x432 with 1 Axes>"
      ]
     },
     "metadata": {
      "needs_background": "light"
     },
     "output_type": "display_data"
    }
   ],
   "source": [
    "%matplotlib inline\n",
    "fig = plt.figure(figsize = (8,6))\n",
    "sns.scatterplot(final_df['PC1'], final_df['PC2'], hue=final_df['ClusterID'], palette=\"Dark2\")\n",
    "plt.xlabel('Principal Component 1')\n",
    "plt.ylabel('Principal Component 2')\n",
    "plt.tight_layout()\n",
    "plt.show()"
   ]
  },
  {
   "cell_type": "code",
   "execution_count": 47,
   "metadata": {},
   "outputs": [
    {
     "data": {
      "text/html": [
       "<div>\n",
       "<style scoped>\n",
       "    .dataframe tbody tr th:only-of-type {\n",
       "        vertical-align: middle;\n",
       "    }\n",
       "\n",
       "    .dataframe tbody tr th {\n",
       "        vertical-align: top;\n",
       "    }\n",
       "\n",
       "    .dataframe thead th {\n",
       "        text-align: right;\n",
       "    }\n",
       "</style>\n",
       "<table border=\"1\" class=\"dataframe\">\n",
       "  <thead>\n",
       "    <tr style=\"text-align: right;\">\n",
       "      <th></th>\n",
       "      <th>country</th>\n",
       "      <th>child_mort</th>\n",
       "      <th>exports</th>\n",
       "      <th>health</th>\n",
       "      <th>imports</th>\n",
       "      <th>income</th>\n",
       "      <th>inflation</th>\n",
       "      <th>life_expec</th>\n",
       "      <th>total_fer</th>\n",
       "      <th>gdpp</th>\n",
       "      <th>PC1</th>\n",
       "      <th>PC2</th>\n",
       "      <th>PC3</th>\n",
       "      <th>PC4</th>\n",
       "      <th>ClusterID</th>\n",
       "    </tr>\n",
       "  </thead>\n",
       "  <tbody>\n",
       "    <tr>\n",
       "      <th>91</th>\n",
       "      <td>Luxembourg</td>\n",
       "      <td>-0.882164</td>\n",
       "      <td>9.839814</td>\n",
       "      <td>3.954197</td>\n",
       "      <td>9.716681</td>\n",
       "      <td>3.878996</td>\n",
       "      <td>-0.394898</td>\n",
       "      <td>1.211786</td>\n",
       "      <td>-0.873224</td>\n",
       "      <td>5.036507</td>\n",
       "      <td>12.648065</td>\n",
       "      <td>8.276683</td>\n",
       "      <td>-0.619787</td>\n",
       "      <td>4.398488</td>\n",
       "      <td>3</td>\n",
       "    </tr>\n",
       "    <tr>\n",
       "      <th>133</th>\n",
       "      <td>Singapore</td>\n",
       "      <td>-0.882164</td>\n",
       "      <td>4.786798</td>\n",
       "      <td>0.439100</td>\n",
       "      <td>5.079237</td>\n",
       "      <td>2.859238</td>\n",
       "      <td>-0.742749</td>\n",
       "      <td>1.369684</td>\n",
       "      <td>-1.191250</td>\n",
       "      <td>1.840665</td>\n",
       "      <td>6.590407</td>\n",
       "      <td>2.950919</td>\n",
       "      <td>-0.320267</td>\n",
       "      <td>3.485423</td>\n",
       "      <td>3</td>\n",
       "    </tr>\n",
       "  </tbody>\n",
       "</table>\n",
       "</div>"
      ],
      "text/plain": [
       "        country  child_mort   exports    health   imports    income  \\\n",
       "91   Luxembourg   -0.882164  9.839814  3.954197  9.716681  3.878996   \n",
       "133   Singapore   -0.882164  4.786798  0.439100  5.079237  2.859238   \n",
       "\n",
       "     inflation  life_expec  total_fer      gdpp        PC1       PC2  \\\n",
       "91   -0.394898    1.211786  -0.873224  5.036507  12.648065  8.276683   \n",
       "133  -0.742749    1.369684  -1.191250  1.840665   6.590407  2.950919   \n",
       "\n",
       "          PC3       PC4  ClusterID  \n",
       "91  -0.619787  4.398488          3  \n",
       "133 -0.320267  3.485423          3  "
      ]
     },
     "execution_count": 47,
     "metadata": {},
     "output_type": "execute_result"
    }
   ],
   "source": [
    "final_df[(final_df['ClusterID']==3)]"
   ]
  },
  {
   "cell_type": "code",
   "execution_count": 48,
   "metadata": {},
   "outputs": [],
   "source": [
    "pcs_df2=final_df"
   ]
  },
  {
   "cell_type": "code",
   "execution_count": null,
   "metadata": {},
   "outputs": [],
   "source": []
  },
  {
   "cell_type": "code",
   "execution_count": 49,
   "metadata": {},
   "outputs": [],
   "source": [
    "km_clust_PC1 = pd.DataFrame(final_df.groupby([\"ClusterID\"]).PC1.mean())\n",
    "km_clust_PC2 = pd.DataFrame(final_df.groupby([\"ClusterID\"]).PC2.mean())\n",
    "km_clust_PC3 = pd.DataFrame(final_df.groupby([\"ClusterID\"]).PC3.mean())\n",
    "km_clust_PC4 = pd.DataFrame(final_df.groupby([\"ClusterID\"]).PC4.mean())\n",
    "km_clust_child_mort = pd.DataFrame(final_df.groupby([\"ClusterID\"]).child_mort.mean())\n",
    "km_clust_health = pd.DataFrame(final_df.groupby([\"ClusterID\"]).health.mean())\n",
    "km_clust_total_fer =  pd.DataFrame(final_df.groupby([\"ClusterID\"]).total_fer.mean())\n",
    "km_clust_income = pd.DataFrame(final_df.groupby([\"ClusterID\"]).income.mean())\n",
    "km_clust_life_expec = pd.DataFrame(final_df.groupby([\"ClusterID\"]).life_expec.mean())"
   ]
  },
  {
   "cell_type": "code",
   "execution_count": 50,
   "metadata": {},
   "outputs": [
    {
     "data": {
      "text/html": [
       "<div>\n",
       "<style scoped>\n",
       "    .dataframe tbody tr th:only-of-type {\n",
       "        vertical-align: middle;\n",
       "    }\n",
       "\n",
       "    .dataframe tbody tr th {\n",
       "        vertical-align: top;\n",
       "    }\n",
       "\n",
       "    .dataframe thead th {\n",
       "        text-align: right;\n",
       "    }\n",
       "</style>\n",
       "<table border=\"1\" class=\"dataframe\">\n",
       "  <thead>\n",
       "    <tr style=\"text-align: right;\">\n",
       "      <th></th>\n",
       "      <th>ClusterID</th>\n",
       "      <th>PC1_mean</th>\n",
       "      <th>PC2_mean</th>\n",
       "      <th>PC3_mean</th>\n",
       "      <th>PC4_mean</th>\n",
       "    </tr>\n",
       "  </thead>\n",
       "  <tbody>\n",
       "    <tr>\n",
       "      <th>0</th>\n",
       "      <td>0</td>\n",
       "      <td>-0.073657</td>\n",
       "      <td>-0.846914</td>\n",
       "      <td>0.131840</td>\n",
       "      <td>0.292368</td>\n",
       "    </tr>\n",
       "    <tr>\n",
       "      <th>1</th>\n",
       "      <td>1</td>\n",
       "      <td>-2.277385</td>\n",
       "      <td>1.231258</td>\n",
       "      <td>-0.211436</td>\n",
       "      <td>-0.169223</td>\n",
       "    </tr>\n",
       "    <tr>\n",
       "      <th>2</th>\n",
       "      <td>2</td>\n",
       "      <td>3.329582</td>\n",
       "      <td>0.144841</td>\n",
       "      <td>-0.017686</td>\n",
       "      <td>-0.878951</td>\n",
       "    </tr>\n",
       "    <tr>\n",
       "      <th>3</th>\n",
       "      <td>3</td>\n",
       "      <td>9.619236</td>\n",
       "      <td>5.613801</td>\n",
       "      <td>-0.470027</td>\n",
       "      <td>3.941955</td>\n",
       "    </tr>\n",
       "  </tbody>\n",
       "</table>\n",
       "</div>"
      ],
      "text/plain": [
       "   ClusterID  PC1_mean  PC2_mean  PC3_mean  PC4_mean\n",
       "0          0 -0.073657 -0.846914  0.131840  0.292368\n",
       "1          1 -2.277385  1.231258 -0.211436 -0.169223\n",
       "2          2  3.329582  0.144841 -0.017686 -0.878951\n",
       "3          3  9.619236  5.613801 -0.470027  3.941955"
      ]
     },
     "execution_count": 50,
     "metadata": {},
     "output_type": "execute_result"
    }
   ],
   "source": [
    "df1 = pd.concat([pd.Series([0,1,2,3]), km_clust_PC1, km_clust_PC2,km_clust_PC3,km_clust_PC4], axis=1)\n",
    "df1.columns = [\"ClusterID\", \"PC1_mean\", \"PC2_mean\",\"PC3_mean\",\"PC4_mean\"]\n",
    "df1"
   ]
  },
  {
   "cell_type": "code",
   "execution_count": 51,
   "metadata": {},
   "outputs": [
    {
     "data": {
      "text/html": [
       "<div>\n",
       "<style scoped>\n",
       "    .dataframe tbody tr th:only-of-type {\n",
       "        vertical-align: middle;\n",
       "    }\n",
       "\n",
       "    .dataframe tbody tr th {\n",
       "        vertical-align: top;\n",
       "    }\n",
       "\n",
       "    .dataframe thead th {\n",
       "        text-align: right;\n",
       "    }\n",
       "</style>\n",
       "<table border=\"1\" class=\"dataframe\">\n",
       "  <thead>\n",
       "    <tr style=\"text-align: right;\">\n",
       "      <th></th>\n",
       "      <th>ClusterID</th>\n",
       "      <th>child_mort_mean</th>\n",
       "      <th>health_mean</th>\n",
       "      <th>total_fer_mean</th>\n",
       "      <th>income_mean</th>\n",
       "      <th>life_expec_mean</th>\n",
       "    </tr>\n",
       "  </thead>\n",
       "  <tbody>\n",
       "    <tr>\n",
       "      <th>0</th>\n",
       "      <td>0</td>\n",
       "      <td>-0.431553</td>\n",
       "      <td>-0.319506</td>\n",
       "      <td>-0.467635</td>\n",
       "      <td>-0.191939</td>\n",
       "      <td>0.300799</td>\n",
       "    </tr>\n",
       "    <tr>\n",
       "      <th>1</th>\n",
       "      <td>1</td>\n",
       "      <td>1.326610</td>\n",
       "      <td>-0.524447</td>\n",
       "      <td>1.354342</td>\n",
       "      <td>-0.689238</td>\n",
       "      <td>-1.276276</td>\n",
       "    </tr>\n",
       "    <tr>\n",
       "      <th>2</th>\n",
       "      <td>2</td>\n",
       "      <td>-0.825390</td>\n",
       "      <td>1.686094</td>\n",
       "      <td>-0.751451</td>\n",
       "      <td>1.490891</td>\n",
       "      <td>1.110670</td>\n",
       "    </tr>\n",
       "    <tr>\n",
       "      <th>3</th>\n",
       "      <td>3</td>\n",
       "      <td>-0.882164</td>\n",
       "      <td>2.196648</td>\n",
       "      <td>-1.032237</td>\n",
       "      <td>3.369117</td>\n",
       "      <td>1.290735</td>\n",
       "    </tr>\n",
       "  </tbody>\n",
       "</table>\n",
       "</div>"
      ],
      "text/plain": [
       "   ClusterID  child_mort_mean  health_mean  total_fer_mean  income_mean  \\\n",
       "0          0        -0.431553    -0.319506       -0.467635    -0.191939   \n",
       "1          1         1.326610    -0.524447        1.354342    -0.689238   \n",
       "2          2        -0.825390     1.686094       -0.751451     1.490891   \n",
       "3          3        -0.882164     2.196648       -1.032237     3.369117   \n",
       "\n",
       "   life_expec_mean  \n",
       "0         0.300799  \n",
       "1        -1.276276  \n",
       "2         1.110670  \n",
       "3         1.290735  "
      ]
     },
     "execution_count": 51,
     "metadata": {},
     "output_type": "execute_result"
    }
   ],
   "source": [
    "df2 = pd.concat([pd.Series([0,1,2,3]),km_clust_child_mort,km_clust_health,km_clust_total_fer,km_clust_income,\n",
    "                 km_clust_life_expec], axis=1)\n",
    "df2.columns = [\"ClusterID\",\"child_mort_mean\",\"health_mean\",\"total_fer_mean\",\"income_mean\",\"life_expec_mean\"]\n",
    "df2"
   ]
  },
  {
   "cell_type": "code",
   "execution_count": 52,
   "metadata": {},
   "outputs": [
    {
     "data": {
      "text/plain": [
       "<matplotlib.axes._subplots.AxesSubplot at 0x1a59c70ab70>"
      ]
     },
     "execution_count": 52,
     "metadata": {},
     "output_type": "execute_result"
    },
    {
     "data": {
      "image/png": "[encoded data removed]",
      "text/plain": [
       "<Figure size 432x288 with 1 Axes>"
      ]
     },
     "metadata": {
      "needs_background": "light"
     },
     "output_type": "display_data"
    }
   ],
   "source": [
    "sns.barplot(x=df2.ClusterID, y=df2.child_mort_mean)"
   ]
  },
  {
   "cell_type": "code",
   "execution_count": 53,
   "metadata": {},
   "outputs": [
    {
     "data": {
      "text/plain": [
       "<matplotlib.axes._subplots.AxesSubplot at 0x1a59c77de48>"
      ]
     },
     "execution_count": 53,
     "metadata": {},
     "output_type": "execute_result"
    },
    {
     "data": {
      "image/png": "[encoded data removed]",
      "text/plain": [
       "<Figure size 432x288 with 1 Axes>"
      ]
     },
     "metadata": {
      "needs_background": "light"
     },
     "output_type": "display_data"
    }
   ],
   "source": [
    "sns.barplot(x=df2.ClusterID, y=df2.health_mean)"
   ]
  },
  {
   "cell_type": "code",
   "execution_count": 54,
   "metadata": {},
   "outputs": [
    {
     "data": {
      "text/plain": [
       "<matplotlib.axes._subplots.AxesSubplot at 0x1a59c7d3668>"
      ]
     },
     "execution_count": 54,
     "metadata": {},
     "output_type": "execute_result"
    },
    {
     "data": {
      "image/png": "[encoded data removed]",
      "text/plain": [
       "<Figure size 432x288 with 1 Axes>"
      ]
     },
     "metadata": {
      "needs_background": "light"
     },
     "output_type": "display_data"
    }
   ],
   "source": [
    "sns.barplot(x=df2.ClusterID, y=df2.total_fer_mean)"
   ]
  },
  {
   "cell_type": "code",
   "execution_count": 55,
   "metadata": {},
   "outputs": [
    {
     "data": {
      "text/plain": [
       "<matplotlib.axes._subplots.AxesSubplot at 0x1a59c841d30>"
      ]
     },
     "execution_count": 55,
     "metadata": {},
     "output_type": "execute_result"
    },
    {
     "data": {
      "image/png": "[encoded data removed]",
      "text/plain": [
       "<Figure size 432x288 with 1 Axes>"
      ]
     },
     "metadata": {
      "needs_background": "light"
     },
     "output_type": "display_data"
    }
   ],
   "source": [
    "sns.barplot(x=df2.ClusterID, y=df2.income_mean)"
   ]
  },
  {
   "cell_type": "code",
   "execution_count": 56,
   "metadata": {},
   "outputs": [
    {
     "data": {
      "text/plain": [
       "<matplotlib.axes._subplots.AxesSubplot at 0x1a59c897080>"
      ]
     },
     "execution_count": 56,
     "metadata": {},
     "output_type": "execute_result"
    },
    {
     "data": {
      "image/png": "[encoded data removed]",
      "text/plain": [
       "<Figure size 432x288 with 1 Axes>"
      ]
     },
     "metadata": {
      "needs_background": "light"
     },
     "output_type": "display_data"
    }
   ],
   "source": [
    "sns.barplot(x=df2.ClusterID, y=df2.life_expec_mean)"
   ]
  },
  {
   "cell_type": "code",
   "execution_count": 100,
   "metadata": {},
   "outputs": [],
   "source": [
    "df4=final_df[(final_df.ClusterID==1)]"
   ]
  },
  {
   "cell_type": "code",
   "execution_count": 101,
   "metadata": {},
   "outputs": [
    {
     "data": {
      "text/plain": [
       "48"
      ]
     },
     "execution_count": 101,
     "metadata": {},
     "output_type": "execute_result"
    }
   ],
   "source": [
    "len(df4)"
   ]
  },
  {
   "cell_type": "code",
   "execution_count": 102,
   "metadata": {},
   "outputs": [
    {
     "data": {
      "text/html": [
       "<div>\n",
       "<style scoped>\n",
       "    .dataframe tbody tr th:only-of-type {\n",
       "        vertical-align: middle;\n",
       "    }\n",
       "\n",
       "    .dataframe tbody tr th {\n",
       "        vertical-align: top;\n",
       "    }\n",
       "\n",
       "    .dataframe thead th {\n",
       "        text-align: right;\n",
       "    }\n",
       "</style>\n",
       "<table border=\"1\" class=\"dataframe\">\n",
       "  <thead>\n",
       "    <tr style=\"text-align: right;\">\n",
       "      <th></th>\n",
       "      <th>country</th>\n",
       "      <th>child_mort</th>\n",
       "      <th>exports</th>\n",
       "      <th>health</th>\n",
       "      <th>imports</th>\n",
       "      <th>income</th>\n",
       "      <th>inflation</th>\n",
       "      <th>life_expec</th>\n",
       "      <th>total_fer</th>\n",
       "      <th>gdpp</th>\n",
       "      <th>PC1</th>\n",
       "      <th>PC2</th>\n",
       "      <th>PC3</th>\n",
       "      <th>PC4</th>\n",
       "      <th>ClusterID</th>\n",
       "    </tr>\n",
       "  </thead>\n",
       "  <tbody>\n",
       "    <tr>\n",
       "      <th>0</th>\n",
       "      <td>Afghanistan</td>\n",
       "      <td>1.291532</td>\n",
       "      <td>-0.411011</td>\n",
       "      <td>-0.565040</td>\n",
       "      <td>-0.432276</td>\n",
       "      <td>-0.808245</td>\n",
       "      <td>0.157336</td>\n",
       "      <td>-1.619092</td>\n",
       "      <td>1.902882</td>\n",
       "      <td>-0.679180</td>\n",
       "      <td>-2.635575</td>\n",
       "      <td>1.472267</td>\n",
       "      <td>-0.549489</td>\n",
       "      <td>-0.242326</td>\n",
       "      <td>1</td>\n",
       "    </tr>\n",
       "    <tr>\n",
       "      <th>3</th>\n",
       "      <td>Angola</td>\n",
       "      <td>2.007808</td>\n",
       "      <td>-0.291375</td>\n",
       "      <td>-0.532363</td>\n",
       "      <td>-0.345953</td>\n",
       "      <td>-0.585043</td>\n",
       "      <td>1.387054</td>\n",
       "      <td>-1.179234</td>\n",
       "      <td>2.128151</td>\n",
       "      <td>-0.516268</td>\n",
       "      <td>-2.722630</td>\n",
       "      <td>2.172332</td>\n",
       "      <td>0.600215</td>\n",
       "      <td>-0.433978</td>\n",
       "      <td>1</td>\n",
       "    </tr>\n",
       "    <tr>\n",
       "      <th>17</th>\n",
       "      <td>Benin</td>\n",
       "      <td>1.808842</td>\n",
       "      <td>-0.404030</td>\n",
       "      <td>-0.571075</td>\n",
       "      <td>-0.429979</td>\n",
       "      <td>-0.797319</td>\n",
       "      <td>-0.654410</td>\n",
       "      <td>-0.987502</td>\n",
       "      <td>1.598107</td>\n",
       "      <td>-0.667961</td>\n",
       "      <td>-2.363962</td>\n",
       "      <td>1.171696</td>\n",
       "      <td>-1.247192</td>\n",
       "      <td>-0.257106</td>\n",
       "      <td>1</td>\n",
       "    </tr>\n",
       "    <tr>\n",
       "      <th>21</th>\n",
       "      <td>Botswana</td>\n",
       "      <td>0.353908</td>\n",
       "      <td>-0.259599</td>\n",
       "      <td>-0.294923</td>\n",
       "      <td>-0.227100</td>\n",
       "      <td>-0.200033</td>\n",
       "      <td>0.107996</td>\n",
       "      <td>-1.517586</td>\n",
       "      <td>-0.045030</td>\n",
       "      <td>-0.361949</td>\n",
       "      <td>-1.129489</td>\n",
       "      <td>0.401611</td>\n",
       "      <td>-0.231994</td>\n",
       "      <td>0.102647</td>\n",
       "      <td>1</td>\n",
       "    </tr>\n",
       "    <tr>\n",
       "      <th>25</th>\n",
       "      <td>Burkina Faso</td>\n",
       "      <td>1.933196</td>\n",
       "      <td>-0.407937</td>\n",
       "      <td>-0.566801</td>\n",
       "      <td>-0.437600</td>\n",
       "      <td>-0.817611</td>\n",
       "      <td>-0.092213</td>\n",
       "      <td>-1.427359</td>\n",
       "      <td>1.936010</td>\n",
       "      <td>-0.677976</td>\n",
       "      <td>-2.751480</td>\n",
       "      <td>1.664991</td>\n",
       "      <td>-0.848207</td>\n",
       "      <td>-0.345046</td>\n",
       "      <td>1</td>\n",
       "    </tr>\n",
       "    <tr>\n",
       "      <th>26</th>\n",
       "      <td>Burundi</td>\n",
       "      <td>1.376093</td>\n",
       "      <td>-0.412947</td>\n",
       "      <td>-0.573459</td>\n",
       "      <td>-0.443031</td>\n",
       "      <td>-0.852261</td>\n",
       "      <td>0.428709</td>\n",
       "      <td>-1.449916</td>\n",
       "      <td>2.194407</td>\n",
       "      <td>-0.696801</td>\n",
       "      <td>-2.762440</td>\n",
       "      <td>1.628790</td>\n",
       "      <td>-0.299329</td>\n",
       "      <td>-0.309938</td>\n",
       "      <td>1</td>\n",
       "    </tr>\n",
       "    <tr>\n",
       "      <th>28</th>\n",
       "      <td>Cameroon</td>\n",
       "      <td>1.734230</td>\n",
       "      <td>-0.397868</td>\n",
       "      <td>-0.550961</td>\n",
       "      <td>-0.425089</td>\n",
       "      <td>-0.753616</td>\n",
       "      <td>-0.557152</td>\n",
       "      <td>-1.495030</td>\n",
       "      <td>1.432468</td>\n",
       "      <td>-0.637754</td>\n",
       "      <td>-2.438923</td>\n",
       "      <td>1.288278</td>\n",
       "      <td>-1.226104</td>\n",
       "      <td>-0.226851</td>\n",
       "      <td>1</td>\n",
       "    </tr>\n",
       "    <tr>\n",
       "      <th>31</th>\n",
       "      <td>Central African Republic</td>\n",
       "      <td>2.753928</td>\n",
       "      <td>-0.411160</td>\n",
       "      <td>-0.578496</td>\n",
       "      <td>-0.441146</td>\n",
       "      <td>-0.845810</td>\n",
       "      <td>-0.547664</td>\n",
       "      <td>-2.600313</td>\n",
       "      <td>1.498724</td>\n",
       "      <td>-0.685035</td>\n",
       "      <td>-3.236946</td>\n",
       "      <td>2.178414</td>\n",
       "      <td>-1.602973</td>\n",
       "      <td>-0.337091</td>\n",
       "      <td>1</td>\n",
       "    </tr>\n",
       "    <tr>\n",
       "      <th>32</th>\n",
       "      <td>Chad</td>\n",
       "      <td>2.778798</td>\n",
       "      <td>-0.395677</td>\n",
       "      <td>-0.565754</td>\n",
       "      <td>-0.422601</td>\n",
       "      <td>-0.791596</td>\n",
       "      <td>-0.132065</td>\n",
       "      <td>-1.585257</td>\n",
       "      <td>2.413050</td>\n",
       "      <td>-0.660355</td>\n",
       "      <td>-3.185395</td>\n",
       "      <td>2.354073</td>\n",
       "      <td>-1.078613</td>\n",
       "      <td>-0.567728</td>\n",
       "      <td>1</td>\n",
       "    </tr>\n",
       "    <tr>\n",
       "      <th>36</th>\n",
       "      <td>Comoros</td>\n",
       "      <td>1.241791</td>\n",
       "      <td>-0.407017</td>\n",
       "      <td>-0.569069</td>\n",
       "      <td>-0.422098</td>\n",
       "      <td>-0.818651</td>\n",
       "      <td>-0.371177</td>\n",
       "      <td>-0.525087</td>\n",
       "      <td>1.193948</td>\n",
       "      <td>-0.667359</td>\n",
       "      <td>-1.949130</td>\n",
       "      <td>0.606917</td>\n",
       "      <td>-0.774798</td>\n",
       "      <td>-0.093182</td>\n",
       "      <td>1</td>\n",
       "    </tr>\n",
       "  </tbody>\n",
       "</table>\n",
       "</div>"
      ],
      "text/plain": [
       "                     country  child_mort   exports    health   imports  \\\n",
       "0                Afghanistan    1.291532 -0.411011 -0.565040 -0.432276   \n",
       "3                     Angola    2.007808 -0.291375 -0.532363 -0.345953   \n",
       "17                     Benin    1.808842 -0.404030 -0.571075 -0.429979   \n",
       "21                  Botswana    0.353908 -0.259599 -0.294923 -0.227100   \n",
       "25              Burkina Faso    1.933196 -0.407937 -0.566801 -0.437600   \n",
       "26                   Burundi    1.376093 -0.412947 -0.573459 -0.443031   \n",
       "28                  Cameroon    1.734230 -0.397868 -0.550961 -0.425089   \n",
       "31  Central African Republic    2.753928 -0.411160 -0.578496 -0.441146   \n",
       "32                      Chad    2.778798 -0.395677 -0.565754 -0.422601   \n",
       "36                   Comoros    1.241791 -0.407017 -0.569069 -0.422098   \n",
       "\n",
       "      income  inflation  life_expec  total_fer      gdpp       PC1       PC2  \\\n",
       "0  -0.808245   0.157336   -1.619092   1.902882 -0.679180 -2.635575  1.472267   \n",
       "3  -0.585043   1.387054   -1.179234   2.128151 -0.516268 -2.722630  2.172332   \n",
       "17 -0.797319  -0.654410   -0.987502   1.598107 -0.667961 -2.363962  1.171696   \n",
       "21 -0.200033   0.107996   -1.517586  -0.045030 -0.361949 -1.129489  0.401611   \n",
       "25 -0.817611  -0.092213   -1.427359   1.936010 -0.677976 -2.751480  1.664991   \n",
       "26 -0.852261   0.428709   -1.449916   2.194407 -0.696801 -2.762440  1.628790   \n",
       "28 -0.753616  -0.557152   -1.495030   1.432468 -0.637754 -2.438923  1.288278   \n",
       "31 -0.845810  -0.547664   -2.600313   1.498724 -0.685035 -3.236946  2.178414   \n",
       "32 -0.791596  -0.132065   -1.585257   2.413050 -0.660355 -3.185395  2.354073   \n",
       "36 -0.818651  -0.371177   -0.525087   1.193948 -0.667359 -1.949130  0.606917   \n",
       "\n",
       "         PC3       PC4  ClusterID  \n",
       "0  -0.549489 -0.242326          1  \n",
       "3   0.600215 -0.433978          1  \n",
       "17 -1.247192 -0.257106          1  \n",
       "21 -0.231994  0.102647          1  \n",
       "25 -0.848207 -0.345046          1  \n",
       "26 -0.299329 -0.309938          1  \n",
       "28 -1.226104 -0.226851          1  \n",
       "31 -1.602973 -0.337091          1  \n",
       "32 -1.078613 -0.567728          1  \n",
       "36 -0.774798 -0.093182          1  "
      ]
     },
     "execution_count": 102,
     "metadata": {},
     "output_type": "execute_result"
    }
   ],
   "source": [
    "df4.head(10)"
   ]
  },
  {
   "cell_type": "code",
   "execution_count": 104,
   "metadata": {},
   "outputs": [
    {
     "data": {
      "text/html": [
       "<div>\n",
       "<style scoped>\n",
       "    .dataframe tbody tr th:only-of-type {\n",
       "        vertical-align: middle;\n",
       "    }\n",
       "\n",
       "    .dataframe tbody tr th {\n",
       "        vertical-align: top;\n",
       "    }\n",
       "\n",
       "    .dataframe thead th {\n",
       "        text-align: right;\n",
       "    }\n",
       "</style>\n",
       "<table border=\"1\" class=\"dataframe\">\n",
       "  <thead>\n",
       "    <tr style=\"text-align: right;\">\n",
       "      <th></th>\n",
       "      <th>country</th>\n",
       "      <th>child_mort</th>\n",
       "      <th>exports</th>\n",
       "      <th>health</th>\n",
       "      <th>imports</th>\n",
       "      <th>income</th>\n",
       "      <th>inflation</th>\n",
       "      <th>life_expec</th>\n",
       "      <th>total_fer</th>\n",
       "      <th>gdpp</th>\n",
       "      <th>PC1</th>\n",
       "      <th>PC2</th>\n",
       "      <th>PC3</th>\n",
       "      <th>PC4</th>\n",
       "      <th>ClusterID</th>\n",
       "    </tr>\n",
       "  </thead>\n",
       "  <tbody>\n",
       "    <tr>\n",
       "      <th>166</th>\n",
       "      <td>Zambia</td>\n",
       "      <td>1.114951</td>\n",
       "      <td>-0.383952</td>\n",
       "      <td>-0.540498</td>\n",
       "      <td>-0.418445</td>\n",
       "      <td>-0.721358</td>\n",
       "      <td>0.590015</td>\n",
       "      <td>-2.092785</td>\n",
       "      <td>1.624609</td>\n",
       "      <td>-0.629546</td>\n",
       "      <td>-2.644505</td>\n",
       "      <td>1.571953</td>\n",
       "      <td>-0.174685</td>\n",
       "      <td>-0.178965</td>\n",
       "      <td>1</td>\n",
       "    </tr>\n",
       "  </tbody>\n",
       "</table>\n",
       "</div>"
      ],
      "text/plain": [
       "    country  child_mort   exports    health   imports    income  inflation  \\\n",
       "166  Zambia    1.114951 -0.383952 -0.540498 -0.418445 -0.721358   0.590015   \n",
       "\n",
       "     life_expec  total_fer      gdpp       PC1       PC2       PC3       PC4  \\\n",
       "166   -2.092785   1.624609 -0.629546 -2.644505  1.571953 -0.174685 -0.178965   \n",
       "\n",
       "     ClusterID  \n",
       "166          1  "
      ]
     },
     "execution_count": 104,
     "metadata": {},
     "output_type": "execute_result"
    }
   ],
   "source": [
    "df4[df4.country=='Zambia']"
   ]
  },
  {
   "cell_type": "code",
   "execution_count": 60,
   "metadata": {},
   "outputs": [],
   "source": [
    "dff = pd.concat([df_nat,pcs_df], axis=1)"
   ]
  },
  {
   "cell_type": "code",
   "execution_count": 61,
   "metadata": {
    "scrolled": false
   },
   "outputs": [
    {
     "data": {
      "image/png": "[encoded data removed]",
      "text/plain": [
       "<Figure size 432x288 with 1 Axes>"
      ]
     },
     "metadata": {
      "needs_background": "light"
     },
     "output_type": "display_data"
    }
   ],
   "source": [
    "# heirarchical clustering\n",
    "mergings = linkage(pcs_df, method = \"single\", metric='euclidean')\n",
    "dendrogram(mergings)\n",
    "plt.show()"
   ]
  },
  {
   "cell_type": "code",
   "execution_count": 62,
   "metadata": {},
   "outputs": [
    {
     "data": {
      "image/png": "[encoded data removed]",
      "text/plain": [
       "<Figure size 1080x720 with 1 Axes>"
      ]
     },
     "metadata": {
      "needs_background": "light"
     },
     "output_type": "display_data"
    }
   ],
   "source": [
    "plt.figure(figsize=(15,10))\n",
    "mergings = linkage(pcs_df, method = \"complete\", metric='euclidean')\n",
    "dendrogram(mergings)\n",
    "plt.show()"
   ]
  },
  {
   "cell_type": "code",
   "execution_count": 63,
   "metadata": {},
   "outputs": [],
   "source": [
    "clusterCut = pd.Series(cut_tree(mergings, n_clusters = 5).reshape(-1,))\n",
    "#Add the cluster Id to the df\n",
    "df_hc = pd.concat([dff, clusterCut.rename('ClusterID')], axis=1)"
   ]
  },
  {
   "cell_type": "code",
   "execution_count": 64,
   "metadata": {},
   "outputs": [
    {
     "data": {
      "text/html": [
       "<div>\n",
       "<style scoped>\n",
       "    .dataframe tbody tr th:only-of-type {\n",
       "        vertical-align: middle;\n",
       "    }\n",
       "\n",
       "    .dataframe tbody tr th {\n",
       "        vertical-align: top;\n",
       "    }\n",
       "\n",
       "    .dataframe thead th {\n",
       "        text-align: right;\n",
       "    }\n",
       "</style>\n",
       "<table border=\"1\" class=\"dataframe\">\n",
       "  <thead>\n",
       "    <tr style=\"text-align: right;\">\n",
       "      <th></th>\n",
       "      <th>country</th>\n",
       "      <th>child_mort</th>\n",
       "      <th>exports</th>\n",
       "      <th>health</th>\n",
       "      <th>imports</th>\n",
       "      <th>income</th>\n",
       "      <th>inflation</th>\n",
       "      <th>life_expec</th>\n",
       "      <th>total_fer</th>\n",
       "      <th>gdpp</th>\n",
       "      <th>PC1</th>\n",
       "      <th>PC2</th>\n",
       "      <th>PC3</th>\n",
       "      <th>PC4</th>\n",
       "      <th>ClusterID</th>\n",
       "    </tr>\n",
       "  </thead>\n",
       "  <tbody>\n",
       "    <tr>\n",
       "      <th>0</th>\n",
       "      <td>Afghanistan</td>\n",
       "      <td>1.291532</td>\n",
       "      <td>-0.411011</td>\n",
       "      <td>-0.565040</td>\n",
       "      <td>-0.432276</td>\n",
       "      <td>-0.808245</td>\n",
       "      <td>0.157336</td>\n",
       "      <td>-1.619092</td>\n",
       "      <td>1.902882</td>\n",
       "      <td>-0.679180</td>\n",
       "      <td>-2.635575</td>\n",
       "      <td>1.472267</td>\n",
       "      <td>-0.549489</td>\n",
       "      <td>-0.242326</td>\n",
       "      <td>0</td>\n",
       "    </tr>\n",
       "    <tr>\n",
       "      <th>1</th>\n",
       "      <td>Albania</td>\n",
       "      <td>-0.538949</td>\n",
       "      <td>-0.350191</td>\n",
       "      <td>-0.439218</td>\n",
       "      <td>-0.313677</td>\n",
       "      <td>-0.375369</td>\n",
       "      <td>-0.312347</td>\n",
       "      <td>0.647866</td>\n",
       "      <td>-0.859973</td>\n",
       "      <td>-0.485623</td>\n",
       "      <td>-0.024206</td>\n",
       "      <td>-1.429892</td>\n",
       "      <td>-0.014123</td>\n",
       "      <td>0.450645</td>\n",
       "      <td>1</td>\n",
       "    </tr>\n",
       "    <tr>\n",
       "      <th>2</th>\n",
       "      <td>Algeria</td>\n",
       "      <td>-0.272833</td>\n",
       "      <td>-0.318526</td>\n",
       "      <td>-0.484826</td>\n",
       "      <td>-0.353720</td>\n",
       "      <td>-0.220844</td>\n",
       "      <td>0.789274</td>\n",
       "      <td>0.670423</td>\n",
       "      <td>-0.038404</td>\n",
       "      <td>-0.465376</td>\n",
       "      <td>-0.459557</td>\n",
       "      <td>-0.675495</td>\n",
       "      <td>0.959355</td>\n",
       "      <td>0.218456</td>\n",
       "      <td>1</td>\n",
       "    </tr>\n",
       "    <tr>\n",
       "      <th>3</th>\n",
       "      <td>Angola</td>\n",
       "      <td>2.007808</td>\n",
       "      <td>-0.291375</td>\n",
       "      <td>-0.532363</td>\n",
       "      <td>-0.345953</td>\n",
       "      <td>-0.585043</td>\n",
       "      <td>1.387054</td>\n",
       "      <td>-1.179234</td>\n",
       "      <td>2.128151</td>\n",
       "      <td>-0.516268</td>\n",
       "      <td>-2.722630</td>\n",
       "      <td>2.172332</td>\n",
       "      <td>0.600215</td>\n",
       "      <td>-0.433978</td>\n",
       "      <td>0</td>\n",
       "    </tr>\n",
       "    <tr>\n",
       "      <th>4</th>\n",
       "      <td>Antigua and Barbuda</td>\n",
       "      <td>-0.695634</td>\n",
       "      <td>-0.104331</td>\n",
       "      <td>-0.178771</td>\n",
       "      <td>0.040735</td>\n",
       "      <td>0.101732</td>\n",
       "      <td>-0.601749</td>\n",
       "      <td>0.704258</td>\n",
       "      <td>-0.541946</td>\n",
       "      <td>-0.041817</td>\n",
       "      <td>0.648597</td>\n",
       "      <td>-1.023437</td>\n",
       "      <td>-0.257430</td>\n",
       "      <td>0.289201</td>\n",
       "      <td>1</td>\n",
       "    </tr>\n",
       "    <tr>\n",
       "      <th>5</th>\n",
       "      <td>Argentina</td>\n",
       "      <td>-0.591177</td>\n",
       "      <td>-0.305464</td>\n",
       "      <td>-0.123849</td>\n",
       "      <td>-0.336841</td>\n",
       "      <td>0.080920</td>\n",
       "      <td>1.244725</td>\n",
       "      <td>0.591474</td>\n",
       "      <td>-0.382933</td>\n",
       "      <td>-0.145791</td>\n",
       "      <td>0.035422</td>\n",
       "      <td>-0.685251</td>\n",
       "      <td>1.468697</td>\n",
       "      <td>-0.028838</td>\n",
       "      <td>1</td>\n",
       "    </tr>\n",
       "    <tr>\n",
       "      <th>6</th>\n",
       "      <td>Armenia</td>\n",
       "      <td>-0.501643</td>\n",
       "      <td>-0.376722</td>\n",
       "      <td>-0.509493</td>\n",
       "      <td>-0.349751</td>\n",
       "      <td>-0.543421</td>\n",
       "      <td>-0.001123</td>\n",
       "      <td>0.309514</td>\n",
       "      <td>-0.833471</td>\n",
       "      <td>-0.533233</td>\n",
       "      <td>-0.334555</td>\n",
       "      <td>-1.271889</td>\n",
       "      <td>0.190564</td>\n",
       "      <td>0.500247</td>\n",
       "      <td>1</td>\n",
       "    </tr>\n",
       "    <tr>\n",
       "      <th>7</th>\n",
       "      <td>Australia</td>\n",
       "      <td>-0.832423</td>\n",
       "      <td>0.159352</td>\n",
       "      <td>1.934367</td>\n",
       "      <td>0.290369</td>\n",
       "      <td>1.261966</td>\n",
       "      <td>-0.628316</td>\n",
       "      <td>1.290735</td>\n",
       "      <td>-0.674457</td>\n",
       "      <td>2.130699</td>\n",
       "      <td>3.181525</td>\n",
       "      <td>-0.262485</td>\n",
       "      <td>-0.130870</td>\n",
       "      <td>-1.678358</td>\n",
       "      <td>2</td>\n",
       "    </tr>\n",
       "    <tr>\n",
       "      <th>8</th>\n",
       "      <td>Austria</td>\n",
       "      <td>-0.844858</td>\n",
       "      <td>0.928521</td>\n",
       "      <td>2.284104</td>\n",
       "      <td>1.079305</td>\n",
       "      <td>1.355617</td>\n",
       "      <td>-0.655549</td>\n",
       "      <td>1.121559</td>\n",
       "      <td>-0.999109</td>\n",
       "      <td>1.857082</td>\n",
       "      <td>3.816857</td>\n",
       "      <td>0.248363</td>\n",
       "      <td>-0.258960</td>\n",
       "      <td>-1.018163</td>\n",
       "      <td>2</td>\n",
       "    </tr>\n",
       "    <tr>\n",
       "      <th>9</th>\n",
       "      <td>Azerbaijan</td>\n",
       "      <td>0.023128</td>\n",
       "      <td>-0.237137</td>\n",
       "      <td>-0.397182</td>\n",
       "      <td>-0.366781</td>\n",
       "      <td>-0.059556</td>\n",
       "      <td>0.571037</td>\n",
       "      <td>-0.164178</td>\n",
       "      <td>-0.681083</td>\n",
       "      <td>-0.389857</td>\n",
       "      <td>-0.467995</td>\n",
       "      <td>-0.492682</td>\n",
       "      <td>0.609900</td>\n",
       "      <td>0.254612</td>\n",
       "      <td>1</td>\n",
       "    </tr>\n",
       "  </tbody>\n",
       "</table>\n",
       "</div>"
      ],
      "text/plain": [
       "               country  child_mort   exports    health   imports    income  \\\n",
       "0          Afghanistan    1.291532 -0.411011 -0.565040 -0.432276 -0.808245   \n",
       "1              Albania   -0.538949 -0.350191 -0.439218 -0.313677 -0.375369   \n",
       "2              Algeria   -0.272833 -0.318526 -0.484826 -0.353720 -0.220844   \n",
       "3               Angola    2.007808 -0.291375 -0.532363 -0.345953 -0.585043   \n",
       "4  Antigua and Barbuda   -0.695634 -0.104331 -0.178771  0.040735  0.101732   \n",
       "5            Argentina   -0.591177 -0.305464 -0.123849 -0.336841  0.080920   \n",
       "6              Armenia   -0.501643 -0.376722 -0.509493 -0.349751 -0.543421   \n",
       "7            Australia   -0.832423  0.159352  1.934367  0.290369  1.261966   \n",
       "8              Austria   -0.844858  0.928521  2.284104  1.079305  1.355617   \n",
       "9           Azerbaijan    0.023128 -0.237137 -0.397182 -0.366781 -0.059556   \n",
       "\n",
       "   inflation  life_expec  total_fer      gdpp       PC1       PC2       PC3  \\\n",
       "0   0.157336   -1.619092   1.902882 -0.679180 -2.635575  1.472267 -0.549489   \n",
       "1  -0.312347    0.647866  -0.859973 -0.485623 -0.024206 -1.429892 -0.014123   \n",
       "2   0.789274    0.670423  -0.038404 -0.465376 -0.459557 -0.675495  0.959355   \n",
       "3   1.387054   -1.179234   2.128151 -0.516268 -2.722630  2.172332  0.600215   \n",
       "4  -0.601749    0.704258  -0.541946 -0.041817  0.648597 -1.023437 -0.257430   \n",
       "5   1.244725    0.591474  -0.382933 -0.145791  0.035422 -0.685251  1.468697   \n",
       "6  -0.001123    0.309514  -0.833471 -0.533233 -0.334555 -1.271889  0.190564   \n",
       "7  -0.628316    1.290735  -0.674457  2.130699  3.181525 -0.262485 -0.130870   \n",
       "8  -0.655549    1.121559  -0.999109  1.857082  3.816857  0.248363 -0.258960   \n",
       "9   0.571037   -0.164178  -0.681083 -0.389857 -0.467995 -0.492682  0.609900   \n",
       "\n",
       "        PC4  ClusterID  \n",
       "0 -0.242326          0  \n",
       "1  0.450645          1  \n",
       "2  0.218456          1  \n",
       "3 -0.433978          0  \n",
       "4  0.289201          1  \n",
       "5 -0.028838          1  \n",
       "6  0.500247          1  \n",
       "7 -1.678358          2  \n",
       "8 -1.018163          2  \n",
       "9  0.254612          1  "
      ]
     },
     "execution_count": 64,
     "metadata": {},
     "output_type": "execute_result"
    }
   ],
   "source": [
    "df_hc.head(10)"
   ]
  },
  {
   "cell_type": "code",
   "execution_count": 65,
   "metadata": {},
   "outputs": [
    {
     "data": {
      "image/png": "[encoded data removed]",
      "text/plain": [
       "<Figure size 576x432 with 1 Axes>"
      ]
     },
     "metadata": {
      "needs_background": "light"
     },
     "output_type": "display_data"
    }
   ],
   "source": [
    "#Analyse the scatter plot\n",
    "%matplotlib inline\n",
    "fig = plt.figure(figsize = (8,6))\n",
    "sns.scatterplot(df_hc['PC1'], df_hc['PC2'], hue=df_hc['ClusterID'], palette=\"Dark2_r\")\n",
    "plt.xlabel('Principal Component 1')\n",
    "plt.ylabel('Principal Component 2')\n",
    "plt.tight_layout()\n",
    "plt.show()"
   ]
  },
  {
   "cell_type": "code",
   "execution_count": 66,
   "metadata": {},
   "outputs": [
    {
     "data": {
      "text/plain": [
       "47"
      ]
     },
     "execution_count": 66,
     "metadata": {},
     "output_type": "execute_result"
    }
   ],
   "source": [
    "len(final_df[(df_hc['ClusterID']==0)])"
   ]
  },
  {
   "cell_type": "code",
   "execution_count": 67,
   "metadata": {},
   "outputs": [
    {
     "data": {
      "text/plain": [
       "97"
      ]
     },
     "execution_count": 67,
     "metadata": {},
     "output_type": "execute_result"
    }
   ],
   "source": [
    "len(final_df[(df_hc['ClusterID']==1)])"
   ]
  },
  {
   "cell_type": "code",
   "execution_count": 68,
   "metadata": {},
   "outputs": [
    {
     "data": {
      "text/plain": [
       "21"
      ]
     },
     "execution_count": 68,
     "metadata": {},
     "output_type": "execute_result"
    }
   ],
   "source": [
    "len(final_df[(df_hc['ClusterID']==2)])"
   ]
  },
  {
   "cell_type": "code",
   "execution_count": 69,
   "metadata": {},
   "outputs": [
    {
     "data": {
      "text/plain": [
       "1"
      ]
     },
     "execution_count": 69,
     "metadata": {},
     "output_type": "execute_result"
    }
   ],
   "source": [
    "len(final_df[(df_hc['ClusterID']==3)])"
   ]
  },
  {
   "cell_type": "code",
   "execution_count": 70,
   "metadata": {},
   "outputs": [
    {
     "data": {
      "text/plain": [
       "array([0, 1, 2, 3, 4], dtype=int64)"
      ]
     },
     "execution_count": 70,
     "metadata": {},
     "output_type": "execute_result"
    }
   ],
   "source": [
    "df_hc.ClusterID.unique()"
   ]
  },
  {
   "cell_type": "code",
   "execution_count": 71,
   "metadata": {},
   "outputs": [],
   "source": [
    "hc_clst_PC1 = pd.DataFrame(df_hc.groupby([\"ClusterID\"]).PC1.mean())\n",
    "hc_clst_PC2 = pd.DataFrame(df_hc.groupby([\"ClusterID\"]).PC2.mean())\n",
    "hc_clst_PC3 = pd.DataFrame(df_hc.groupby([\"ClusterID\"]).PC3.mean())\n",
    "hc_clst_PC4 = pd.DataFrame(df_hc.groupby([\"ClusterID\"]).PC4.mean())\n",
    "hc_clst_child_mort = pd.DataFrame(df_hc.groupby([\"ClusterID\"]).child_mort.mean())\n",
    "hc_clst_health = pd.DataFrame(df_hc.groupby([\"ClusterID\"]).health.mean())\n",
    "hc_clst_total_fer =  pd.DataFrame(df_hc.groupby([\"ClusterID\"]).total_fer.mean())\n",
    "hc_clst_income = pd.DataFrame(df_hc.groupby([\"ClusterID\"]).income.mean())\n",
    "hc_clst_life_expec = pd.DataFrame(df_hc.groupby([\"ClusterID\"]).life_expec.mean())"
   ]
  },
  {
   "cell_type": "code",
   "execution_count": 72,
   "metadata": {},
   "outputs": [
    {
     "data": {
      "text/html": [
       "<div>\n",
       "<style scoped>\n",
       "    .dataframe tbody tr th:only-of-type {\n",
       "        vertical-align: middle;\n",
       "    }\n",
       "\n",
       "    .dataframe tbody tr th {\n",
       "        vertical-align: top;\n",
       "    }\n",
       "\n",
       "    .dataframe thead th {\n",
       "        text-align: right;\n",
       "    }\n",
       "</style>\n",
       "<table border=\"1\" class=\"dataframe\">\n",
       "  <thead>\n",
       "    <tr style=\"text-align: right;\">\n",
       "      <th></th>\n",
       "      <th>ClusterID</th>\n",
       "      <th>PC1_mean</th>\n",
       "      <th>PC2_mean</th>\n",
       "      <th>PC3_mean</th>\n",
       "      <th>PC4_mean</th>\n",
       "    </tr>\n",
       "  </thead>\n",
       "  <tbody>\n",
       "    <tr>\n",
       "      <th>0</th>\n",
       "      <td>0</td>\n",
       "      <td>-2.242185</td>\n",
       "      <td>1.176153</td>\n",
       "      <td>-0.384636</td>\n",
       "      <td>-0.161330</td>\n",
       "    </tr>\n",
       "    <tr>\n",
       "      <th>1</th>\n",
       "      <td>1</td>\n",
       "      <td>0.150850</td>\n",
       "      <td>-0.792407</td>\n",
       "      <td>0.144826</td>\n",
       "      <td>0.261139</td>\n",
       "    </tr>\n",
       "    <tr>\n",
       "      <th>2</th>\n",
       "      <td>2</td>\n",
       "      <td>3.906381</td>\n",
       "      <td>0.451733</td>\n",
       "      <td>-0.156160</td>\n",
       "      <td>-1.028872</td>\n",
       "    </tr>\n",
       "    <tr>\n",
       "      <th>3</th>\n",
       "      <td>3</td>\n",
       "      <td>12.648065</td>\n",
       "      <td>8.276683</td>\n",
       "      <td>-0.619787</td>\n",
       "      <td>4.398488</td>\n",
       "    </tr>\n",
       "    <tr>\n",
       "      <th>4</th>\n",
       "      <td>4</td>\n",
       "      <td>-3.931802</td>\n",
       "      <td>3.821230</td>\n",
       "      <td>7.928939</td>\n",
       "      <td>-0.540160</td>\n",
       "    </tr>\n",
       "  </tbody>\n",
       "</table>\n",
       "</div>"
      ],
      "text/plain": [
       "   ClusterID   PC1_mean  PC2_mean  PC3_mean  PC4_mean\n",
       "0          0  -2.242185  1.176153 -0.384636 -0.161330\n",
       "1          1   0.150850 -0.792407  0.144826  0.261139\n",
       "2          2   3.906381  0.451733 -0.156160 -1.028872\n",
       "3          3  12.648065  8.276683 -0.619787  4.398488\n",
       "4          4  -3.931802  3.821230  7.928939 -0.540160"
      ]
     },
     "execution_count": 72,
     "metadata": {},
     "output_type": "execute_result"
    }
   ],
   "source": [
    "df3 = pd.concat([pd.Series([0,1,2,3,4]), hc_clst_PC1, hc_clst_PC2, hc_clst_PC3, hc_clst_PC4], axis=1)\n",
    "df3.columns = [\"ClusterID\", \"PC1_mean\", \"PC2_mean\",\"PC3_mean\",\"PC4_mean\"]\n",
    "df3"
   ]
  },
  {
   "cell_type": "code",
   "execution_count": 73,
   "metadata": {},
   "outputs": [
    {
     "data": {
      "text/html": [
       "<div>\n",
       "<style scoped>\n",
       "    .dataframe tbody tr th:only-of-type {\n",
       "        vertical-align: middle;\n",
       "    }\n",
       "\n",
       "    .dataframe tbody tr th {\n",
       "        vertical-align: top;\n",
       "    }\n",
       "\n",
       "    .dataframe thead th {\n",
       "        text-align: right;\n",
       "    }\n",
       "</style>\n",
       "<table border=\"1\" class=\"dataframe\">\n",
       "  <thead>\n",
       "    <tr style=\"text-align: right;\">\n",
       "      <th></th>\n",
       "      <th>ClusterID</th>\n",
       "      <th>child_mort_mean</th>\n",
       "      <th>health_mean</th>\n",
       "      <th>total_fer_mean</th>\n",
       "      <th>income_mean</th>\n",
       "      <th>life_expec_mean</th>\n",
       "    </tr>\n",
       "  </thead>\n",
       "  <tbody>\n",
       "    <tr>\n",
       "      <th>0</th>\n",
       "      <td>0</td>\n",
       "      <td>1.306296</td>\n",
       "      <td>-0.524487</td>\n",
       "      <td>1.342389</td>\n",
       "      <td>-0.690625</td>\n",
       "      <td>-1.279300</td>\n",
       "    </tr>\n",
       "    <tr>\n",
       "      <th>1</th>\n",
       "      <td>1</td>\n",
       "      <td>-0.465516</td>\n",
       "      <td>-0.245745</td>\n",
       "      <td>-0.495158</td>\n",
       "      <td>-0.044972</td>\n",
       "      <td>0.366139</td>\n",
       "    </tr>\n",
       "    <tr>\n",
       "      <th>2</th>\n",
       "      <td>2</td>\n",
       "      <td>-0.840002</td>\n",
       "      <td>2.145550</td>\n",
       "      <td>-0.766900</td>\n",
       "      <td>1.598416</td>\n",
       "      <td>1.168284</td>\n",
       "    </tr>\n",
       "    <tr>\n",
       "      <th>3</th>\n",
       "      <td>3</td>\n",
       "      <td>-0.882164</td>\n",
       "      <td>3.954197</td>\n",
       "      <td>-0.873224</td>\n",
       "      <td>3.878996</td>\n",
       "      <td>1.211786</td>\n",
       "    </tr>\n",
       "    <tr>\n",
       "      <th>4</th>\n",
       "      <td>4</td>\n",
       "      <td>2.281385</td>\n",
       "      <td>-0.522605</td>\n",
       "      <td>1.916133</td>\n",
       "      <td>-0.624065</td>\n",
       "      <td>-1.134121</td>\n",
       "    </tr>\n",
       "  </tbody>\n",
       "</table>\n",
       "</div>"
      ],
      "text/plain": [
       "   ClusterID  child_mort_mean  health_mean  total_fer_mean  income_mean  \\\n",
       "0          0         1.306296    -0.524487        1.342389    -0.690625   \n",
       "1          1        -0.465516    -0.245745       -0.495158    -0.044972   \n",
       "2          2        -0.840002     2.145550       -0.766900     1.598416   \n",
       "3          3        -0.882164     3.954197       -0.873224     3.878996   \n",
       "4          4         2.281385    -0.522605        1.916133    -0.624065   \n",
       "\n",
       "   life_expec_mean  \n",
       "0        -1.279300  \n",
       "1         0.366139  \n",
       "2         1.168284  \n",
       "3         1.211786  \n",
       "4        -1.134121  "
      ]
     },
     "execution_count": 73,
     "metadata": {},
     "output_type": "execute_result"
    }
   ],
   "source": [
    "\n",
    "df4 = pd.concat([pd.Series([0,1,2,3,4]),hc_clst_child_mort,hc_clst_health,\n",
    "                 hc_clst_total_fer,hc_clst_income,hc_clst_life_expec], axis=1)\n",
    "df4.columns = [\"ClusterID\",\"child_mort_mean\",\"health_mean\",\"total_fer_mean\",\"income_mean\",\"life_expec_mean\"]\n",
    "df4"
   ]
  },
  {
   "cell_type": "code",
   "execution_count": 74,
   "metadata": {},
   "outputs": [
    {
     "data": {
      "text/html": [
       "<div>\n",
       "<style scoped>\n",
       "    .dataframe tbody tr th:only-of-type {\n",
       "        vertical-align: middle;\n",
       "    }\n",
       "\n",
       "    .dataframe tbody tr th {\n",
       "        vertical-align: top;\n",
       "    }\n",
       "\n",
       "    .dataframe thead th {\n",
       "        text-align: right;\n",
       "    }\n",
       "</style>\n",
       "<table border=\"1\" class=\"dataframe\">\n",
       "  <thead>\n",
       "    <tr style=\"text-align: right;\">\n",
       "      <th></th>\n",
       "      <th>ClusterID</th>\n",
       "      <th>PC1_mean</th>\n",
       "      <th>PC2_mean</th>\n",
       "      <th>PC3_mean</th>\n",
       "      <th>PC4_mean</th>\n",
       "    </tr>\n",
       "  </thead>\n",
       "  <tbody>\n",
       "    <tr>\n",
       "      <th>0</th>\n",
       "      <td>0</td>\n",
       "      <td>-2.242185</td>\n",
       "      <td>1.176153</td>\n",
       "      <td>-0.384636</td>\n",
       "      <td>-0.161330</td>\n",
       "    </tr>\n",
       "    <tr>\n",
       "      <th>1</th>\n",
       "      <td>1</td>\n",
       "      <td>0.150850</td>\n",
       "      <td>-0.792407</td>\n",
       "      <td>0.144826</td>\n",
       "      <td>0.261139</td>\n",
       "    </tr>\n",
       "    <tr>\n",
       "      <th>2</th>\n",
       "      <td>2</td>\n",
       "      <td>3.906381</td>\n",
       "      <td>0.451733</td>\n",
       "      <td>-0.156160</td>\n",
       "      <td>-1.028872</td>\n",
       "    </tr>\n",
       "    <tr>\n",
       "      <th>3</th>\n",
       "      <td>3</td>\n",
       "      <td>12.648065</td>\n",
       "      <td>8.276683</td>\n",
       "      <td>-0.619787</td>\n",
       "      <td>4.398488</td>\n",
       "    </tr>\n",
       "    <tr>\n",
       "      <th>4</th>\n",
       "      <td>4</td>\n",
       "      <td>-3.931802</td>\n",
       "      <td>3.821230</td>\n",
       "      <td>7.928939</td>\n",
       "      <td>-0.540160</td>\n",
       "    </tr>\n",
       "  </tbody>\n",
       "</table>\n",
       "</div>"
      ],
      "text/plain": [
       "   ClusterID   PC1_mean  PC2_mean  PC3_mean  PC4_mean\n",
       "0          0  -2.242185  1.176153 -0.384636 -0.161330\n",
       "1          1   0.150850 -0.792407  0.144826  0.261139\n",
       "2          2   3.906381  0.451733 -0.156160 -1.028872\n",
       "3          3  12.648065  8.276683 -0.619787  4.398488\n",
       "4          4  -3.931802  3.821230  7.928939 -0.540160"
      ]
     },
     "execution_count": 74,
     "metadata": {},
     "output_type": "execute_result"
    }
   ],
   "source": [
    "df3"
   ]
  },
  {
   "cell_type": "code",
   "execution_count": null,
   "metadata": {},
   "outputs": [],
   "source": []
  },
  {
   "cell_type": "code",
   "execution_count": null,
   "metadata": {},
   "outputs": [],
   "source": []
  },
  {
   "cell_type": "code",
   "execution_count": 75,
   "metadata": {
    "scrolled": true
   },
   "outputs": [
    {
     "data": {
      "text/plain": [
       "<matplotlib.axes._subplots.AxesSubplot at 0x1a59dbbaac8>"
      ]
     },
     "execution_count": 75,
     "metadata": {},
     "output_type": "execute_result"
    },
    {
     "data": {
      "image/png": "[encoded data removed]",
      "text/plain": [
       "<Figure size 432x288 with 1 Axes>"
      ]
     },
     "metadata": {
      "needs_background": "light"
     },
     "output_type": "display_data"
    }
   ],
   "source": [
    "sns.barplot(x=df3.ClusterID, y=df3.PC1_mean)"
   ]
  },
  {
   "cell_type": "code",
   "execution_count": 76,
   "metadata": {},
   "outputs": [
    {
     "data": {
      "text/plain": [
       "<matplotlib.axes._subplots.AxesSubplot at 0x1a59dc04a58>"
      ]
     },
     "execution_count": 76,
     "metadata": {},
     "output_type": "execute_result"
    },
    {
     "data": {
      "image/png": "[encoded data removed]",
      "text/plain": [
       "<Figure size 432x288 with 1 Axes>"
      ]
     },
     "metadata": {
      "needs_background": "light"
     },
     "output_type": "display_data"
    }
   ],
   "source": [
    "sns.barplot(x=df3.ClusterID, y=df3.PC2_mean)"
   ]
  },
  {
   "cell_type": "code",
   "execution_count": 77,
   "metadata": {},
   "outputs": [
    {
     "data": {
      "text/plain": [
       "<matplotlib.axes._subplots.AxesSubplot at 0x1a59db9f3c8>"
      ]
     },
     "execution_count": 77,
     "metadata": {},
     "output_type": "execute_result"
    },
    {
     "data": {
      "image/png": "[encoded data removed]",
      "text/plain": [
       "<Figure size 432x288 with 1 Axes>"
      ]
     },
     "metadata": {
      "needs_background": "light"
     },
     "output_type": "display_data"
    }
   ],
   "source": [
    "sns.barplot(x=df3.ClusterID, y=df3.PC3_mean)"
   ]
  },
  {
   "cell_type": "code",
   "execution_count": 78,
   "metadata": {},
   "outputs": [
    {
     "data": {
      "text/plain": [
       "<matplotlib.axes._subplots.AxesSubplot at 0x1a59dce1e10>"
      ]
     },
     "execution_count": 78,
     "metadata": {},
     "output_type": "execute_result"
    },
    {
     "data": {
      "image/png": "[encoded data removed]",
      "text/plain": [
       "<Figure size 432x288 with 1 Axes>"
      ]
     },
     "metadata": {
      "needs_background": "light"
     },
     "output_type": "display_data"
    }
   ],
   "source": [
    "sns.barplot(x=df3.ClusterID, y=df3.PC4_mean)"
   ]
  },
  {
   "cell_type": "code",
   "execution_count": 79,
   "metadata": {},
   "outputs": [
    {
     "data": {
      "text/plain": [
       "<matplotlib.axes._subplots.AxesSubplot at 0x1a59dd45550>"
      ]
     },
     "execution_count": 79,
     "metadata": {},
     "output_type": "execute_result"
    },
    {
     "data": {
      "image/png": "[encoded data removed]",
      "text/plain": [
       "<Figure size 432x288 with 1 Axes>"
      ]
     },
     "metadata": {
      "needs_background": "light"
     },
     "output_type": "display_data"
    }
   ],
   "source": [
    "sns.barplot(x=df4.ClusterID, y=df4.child_mort_mean)"
   ]
  },
  {
   "cell_type": "code",
   "execution_count": 80,
   "metadata": {},
   "outputs": [
    {
     "data": {
      "text/plain": [
       "<matplotlib.axes._subplots.AxesSubplot at 0x1a59ddb6f28>"
      ]
     },
     "execution_count": 80,
     "metadata": {},
     "output_type": "execute_result"
    },
    {
     "data": {
      "image/png": "[encoded data removed]",
      "text/plain": [
       "<Figure size 432x288 with 1 Axes>"
      ]
     },
     "metadata": {
      "needs_background": "light"
     },
     "output_type": "display_data"
    }
   ],
   "source": [
    "sns.barplot(x=df4.ClusterID, y=df4.health_mean)\n"
   ]
  },
  {
   "cell_type": "code",
   "execution_count": 81,
   "metadata": {},
   "outputs": [
    {
     "data": {
      "text/plain": [
       "<matplotlib.axes._subplots.AxesSubplot at 0x1a59de1cef0>"
      ]
     },
     "execution_count": 81,
     "metadata": {},
     "output_type": "execute_result"
    },
    {
     "data": {
      "image/png": "[encoded data removed]",
      "text/plain": [
       "<Figure size 432x288 with 1 Axes>"
      ]
     },
     "metadata": {
      "needs_background": "light"
     },
     "output_type": "display_data"
    }
   ],
   "source": [
    "sns.barplot(x=df4.ClusterID, y=df4.total_fer_mean)"
   ]
  },
  {
   "cell_type": "code",
   "execution_count": 82,
   "metadata": {},
   "outputs": [
    {
     "data": {
      "text/plain": [
       "<matplotlib.axes._subplots.AxesSubplot at 0x1a59e0c0b70>"
      ]
     },
     "execution_count": 82,
     "metadata": {},
     "output_type": "execute_result"
    },
    {
     "data": {
      "image/png": "[encoded data removed]",
      "text/plain": [
       "<Figure size 432x288 with 1 Axes>"
      ]
     },
     "metadata": {
      "needs_background": "light"
     },
     "output_type": "display_data"
    }
   ],
   "source": [
    "sns.barplot(x=df4.ClusterID, y=df4.income_mean)"
   ]
  },
  {
   "cell_type": "code",
   "execution_count": 83,
   "metadata": {},
   "outputs": [
    {
     "data": {
      "text/plain": [
       "<matplotlib.axes._subplots.AxesSubplot at 0x1a59db0d160>"
      ]
     },
     "execution_count": 83,
     "metadata": {},
     "output_type": "execute_result"
    },
    {
     "data": {
      "image/png": "[encoded data removed]",
      "text/plain": [
       "<Figure size 432x288 with 1 Axes>"
      ]
     },
     "metadata": {
      "needs_background": "light"
     },
     "output_type": "display_data"
    }
   ],
   "source": [
    "sns.barplot(x=df4.ClusterID, y=df4.life_expec_mean)"
   ]
  },
  {
   "cell_type": "code",
   "execution_count": 84,
   "metadata": {},
   "outputs": [],
   "source": [
    "dfinal = df_hc[(df_hc.ClusterID==0)]"
   ]
  },
  {
   "cell_type": "code",
   "execution_count": 85,
   "metadata": {},
   "outputs": [
    {
     "data": {
      "text/plain": [
       "47"
      ]
     },
     "execution_count": 85,
     "metadata": {},
     "output_type": "execute_result"
    }
   ],
   "source": [
    "len(dfinal)"
   ]
  },
  {
   "cell_type": "code",
   "execution_count": 86,
   "metadata": {},
   "outputs": [
    {
     "data": {
      "text/html": [
       "<div>\n",
       "<style scoped>\n",
       "    .dataframe tbody tr th:only-of-type {\n",
       "        vertical-align: middle;\n",
       "    }\n",
       "\n",
       "    .dataframe tbody tr th {\n",
       "        vertical-align: top;\n",
       "    }\n",
       "\n",
       "    .dataframe thead th {\n",
       "        text-align: right;\n",
       "    }\n",
       "</style>\n",
       "<table border=\"1\" class=\"dataframe\">\n",
       "  <thead>\n",
       "    <tr style=\"text-align: right;\">\n",
       "      <th></th>\n",
       "      <th>country</th>\n",
       "      <th>child_mort</th>\n",
       "      <th>exports</th>\n",
       "      <th>health</th>\n",
       "      <th>imports</th>\n",
       "      <th>income</th>\n",
       "      <th>inflation</th>\n",
       "      <th>life_expec</th>\n",
       "      <th>total_fer</th>\n",
       "      <th>gdpp</th>\n",
       "      <th>PC1</th>\n",
       "      <th>PC2</th>\n",
       "      <th>PC3</th>\n",
       "      <th>PC4</th>\n",
       "      <th>ClusterID</th>\n",
       "    </tr>\n",
       "  </thead>\n",
       "  <tbody>\n",
       "    <tr>\n",
       "      <th>21</th>\n",
       "      <td>Botswana</td>\n",
       "      <td>0.353908</td>\n",
       "      <td>-0.259599</td>\n",
       "      <td>-0.294923</td>\n",
       "      <td>-0.227100</td>\n",
       "      <td>-0.200033</td>\n",
       "      <td>0.107996</td>\n",
       "      <td>-1.517586</td>\n",
       "      <td>-0.045030</td>\n",
       "      <td>-0.361949</td>\n",
       "      <td>-1.129489</td>\n",
       "      <td>0.401611</td>\n",
       "      <td>-0.231994</td>\n",
       "      <td>0.102647</td>\n",
       "      <td>0</td>\n",
       "    </tr>\n",
       "    <tr>\n",
       "      <th>49</th>\n",
       "      <td>Equatorial Guinea</td>\n",
       "      <td>1.808842</td>\n",
       "      <td>0.404642</td>\n",
       "      <td>-0.161833</td>\n",
       "      <td>0.237514</td>\n",
       "      <td>0.861347</td>\n",
       "      <td>1.624268</td>\n",
       "      <td>-1.089007</td>\n",
       "      <td>1.498724</td>\n",
       "      <td>0.226327</td>\n",
       "      <td>-1.052542</td>\n",
       "      <td>2.692334</td>\n",
       "      <td>1.048852</td>\n",
       "      <td>-0.408086</td>\n",
       "      <td>0</td>\n",
       "    </tr>\n",
       "    <tr>\n",
       "      <th>55</th>\n",
       "      <td>Gabon</td>\n",
       "      <td>0.632460</td>\n",
       "      <td>-0.132359</td>\n",
       "      <td>-0.417862</td>\n",
       "      <td>-0.336449</td>\n",
       "      <td>-0.090773</td>\n",
       "      <td>0.836717</td>\n",
       "      <td>-0.863439</td>\n",
       "      <td>0.750036</td>\n",
       "      <td>-0.230613</td>\n",
       "      <td>-1.281841</td>\n",
       "      <td>0.850425</td>\n",
       "      <td>0.514767</td>\n",
       "      <td>-0.110677</td>\n",
       "      <td>0</td>\n",
       "    </tr>\n",
       "  </tbody>\n",
       "</table>\n",
       "</div>"
      ],
      "text/plain": [
       "              country  child_mort   exports    health   imports    income  \\\n",
       "21           Botswana    0.353908 -0.259599 -0.294923 -0.227100 -0.200033   \n",
       "49  Equatorial Guinea    1.808842  0.404642 -0.161833  0.237514  0.861347   \n",
       "55              Gabon    0.632460 -0.132359 -0.417862 -0.336449 -0.090773   \n",
       "\n",
       "    inflation  life_expec  total_fer      gdpp       PC1       PC2       PC3  \\\n",
       "21   0.107996   -1.517586  -0.045030 -0.361949 -1.129489  0.401611 -0.231994   \n",
       "49   1.624268   -1.089007   1.498724  0.226327 -1.052542  2.692334  1.048852   \n",
       "55   0.836717   -0.863439   0.750036 -0.230613 -1.281841  0.850425  0.514767   \n",
       "\n",
       "         PC4  ClusterID  \n",
       "21  0.102647          0  \n",
       "49 -0.408086          0  \n",
       "55 -0.110677          0  "
      ]
     },
     "execution_count": 86,
     "metadata": {},
     "output_type": "execute_result"
    }
   ],
   "source": [
    "q = dfinal.income.quantile(.95)\n",
    "dfinal.loc[(dfinal.income>=q)]"
   ]
  },
  {
   "cell_type": "code",
   "execution_count": 87,
   "metadata": {},
   "outputs": [
    {
     "data": {
      "text/html": [
       "<div>\n",
       "<style scoped>\n",
       "    .dataframe tbody tr th:only-of-type {\n",
       "        vertical-align: middle;\n",
       "    }\n",
       "\n",
       "    .dataframe tbody tr th {\n",
       "        vertical-align: top;\n",
       "    }\n",
       "\n",
       "    .dataframe thead th {\n",
       "        text-align: right;\n",
       "    }\n",
       "</style>\n",
       "<table border=\"1\" class=\"dataframe\">\n",
       "  <thead>\n",
       "    <tr style=\"text-align: right;\">\n",
       "      <th></th>\n",
       "      <th>country</th>\n",
       "      <th>child_mort</th>\n",
       "      <th>exports</th>\n",
       "      <th>health</th>\n",
       "      <th>imports</th>\n",
       "      <th>income</th>\n",
       "      <th>inflation</th>\n",
       "      <th>life_expec</th>\n",
       "      <th>total_fer</th>\n",
       "      <th>gdpp</th>\n",
       "      <th>PC1</th>\n",
       "      <th>PC2</th>\n",
       "      <th>PC3</th>\n",
       "      <th>PC4</th>\n",
       "      <th>ClusterID</th>\n",
       "    </tr>\n",
       "  </thead>\n",
       "  <tbody>\n",
       "    <tr>\n",
       "      <th>21</th>\n",
       "      <td>Botswana</td>\n",
       "      <td>0.353908</td>\n",
       "      <td>-0.259599</td>\n",
       "      <td>-0.294923</td>\n",
       "      <td>-0.227100</td>\n",
       "      <td>-0.200033</td>\n",
       "      <td>0.107996</td>\n",
       "      <td>-1.517586</td>\n",
       "      <td>-0.045030</td>\n",
       "      <td>-0.361949</td>\n",
       "      <td>-1.129489</td>\n",
       "      <td>0.401611</td>\n",
       "      <td>-0.231994</td>\n",
       "      <td>0.102647</td>\n",
       "      <td>0</td>\n",
       "    </tr>\n",
       "    <tr>\n",
       "      <th>72</th>\n",
       "      <td>Iraq</td>\n",
       "      <td>-0.034074</td>\n",
       "      <td>-0.315157</td>\n",
       "      <td>-0.377662</td>\n",
       "      <td>-0.344580</td>\n",
       "      <td>-0.231250</td>\n",
       "      <td>0.836717</td>\n",
       "      <td>-0.378468</td>\n",
       "      <td>1.068063</td>\n",
       "      <td>-0.463187</td>\n",
       "      <td>-1.197990</td>\n",
       "      <td>0.365722</td>\n",
       "      <td>0.665672</td>\n",
       "      <td>-0.092386</td>\n",
       "      <td>0</td>\n",
       "    </tr>\n",
       "    <tr>\n",
       "      <th>136</th>\n",
       "      <td>Solomon Islands</td>\n",
       "      <td>-0.252936</td>\n",
       "      <td>-0.378608</td>\n",
       "      <td>-0.526968</td>\n",
       "      <td>-0.377786</td>\n",
       "      <td>-0.799401</td>\n",
       "      <td>-0.092213</td>\n",
       "      <td>-0.998780</td>\n",
       "      <td>0.856045</td>\n",
       "      <td>-0.638849</td>\n",
       "      <td>-1.517840</td>\n",
       "      <td>0.019029</td>\n",
       "      <td>-0.357049</td>\n",
       "      <td>0.201590</td>\n",
       "      <td>0</td>\n",
       "    </tr>\n",
       "  </tbody>\n",
       "</table>\n",
       "</div>"
      ],
      "text/plain": [
       "             country  child_mort   exports    health   imports    income  \\\n",
       "21          Botswana    0.353908 -0.259599 -0.294923 -0.227100 -0.200033   \n",
       "72              Iraq   -0.034074 -0.315157 -0.377662 -0.344580 -0.231250   \n",
       "136  Solomon Islands   -0.252936 -0.378608 -0.526968 -0.377786 -0.799401   \n",
       "\n",
       "     inflation  life_expec  total_fer      gdpp       PC1       PC2       PC3  \\\n",
       "21    0.107996   -1.517586  -0.045030 -0.361949 -1.129489  0.401611 -0.231994   \n",
       "72    0.836717   -0.378468   1.068063 -0.463187 -1.197990  0.365722  0.665672   \n",
       "136  -0.092213   -0.998780   0.856045 -0.638849 -1.517840  0.019029 -0.357049   \n",
       "\n",
       "          PC4  ClusterID  \n",
       "21   0.102647          0  \n",
       "72  -0.092386          0  \n",
       "136  0.201590          0  "
      ]
     },
     "execution_count": 87,
     "metadata": {},
     "output_type": "execute_result"
    }
   ],
   "source": [
    "q = dfinal.child_mort.quantile(.05)\n",
    "dfinal.loc[(dfinal.child_mort<q)]"
   ]
  },
  {
   "cell_type": "code",
   "execution_count": 88,
   "metadata": {},
   "outputs": [
    {
     "data": {
      "text/html": [
       "<div>\n",
       "<style scoped>\n",
       "    .dataframe tbody tr th:only-of-type {\n",
       "        vertical-align: middle;\n",
       "    }\n",
       "\n",
       "    .dataframe tbody tr th {\n",
       "        vertical-align: top;\n",
       "    }\n",
       "\n",
       "    .dataframe thead th {\n",
       "        text-align: right;\n",
       "    }\n",
       "</style>\n",
       "<table border=\"1\" class=\"dataframe\">\n",
       "  <thead>\n",
       "    <tr style=\"text-align: right;\">\n",
       "      <th></th>\n",
       "      <th>country</th>\n",
       "      <th>child_mort</th>\n",
       "      <th>exports</th>\n",
       "      <th>health</th>\n",
       "      <th>imports</th>\n",
       "      <th>income</th>\n",
       "      <th>inflation</th>\n",
       "      <th>life_expec</th>\n",
       "      <th>total_fer</th>\n",
       "      <th>gdpp</th>\n",
       "      <th>PC1</th>\n",
       "      <th>PC2</th>\n",
       "      <th>PC3</th>\n",
       "      <th>PC4</th>\n",
       "      <th>ClusterID</th>\n",
       "    </tr>\n",
       "  </thead>\n",
       "  <tbody>\n",
       "    <tr>\n",
       "      <th>21</th>\n",
       "      <td>Botswana</td>\n",
       "      <td>0.353908</td>\n",
       "      <td>-0.259599</td>\n",
       "      <td>-0.294923</td>\n",
       "      <td>-0.227100</td>\n",
       "      <td>-0.200033</td>\n",
       "      <td>0.107996</td>\n",
       "      <td>-1.517586</td>\n",
       "      <td>-0.045030</td>\n",
       "      <td>-0.361949</td>\n",
       "      <td>-1.129489</td>\n",
       "      <td>0.401611</td>\n",
       "      <td>-0.231994</td>\n",
       "      <td>0.102647</td>\n",
       "      <td>0</td>\n",
       "    </tr>\n",
       "    <tr>\n",
       "      <th>49</th>\n",
       "      <td>Equatorial Guinea</td>\n",
       "      <td>1.808842</td>\n",
       "      <td>0.404642</td>\n",
       "      <td>-0.161833</td>\n",
       "      <td>0.237514</td>\n",
       "      <td>0.861347</td>\n",
       "      <td>1.624268</td>\n",
       "      <td>-1.089007</td>\n",
       "      <td>1.498724</td>\n",
       "      <td>0.226327</td>\n",
       "      <td>-1.052542</td>\n",
       "      <td>2.692334</td>\n",
       "      <td>1.048852</td>\n",
       "      <td>-0.408086</td>\n",
       "      <td>0</td>\n",
       "    </tr>\n",
       "    <tr>\n",
       "      <th>137</th>\n",
       "      <td>South Africa</td>\n",
       "      <td>0.383753</td>\n",
       "      <td>-0.297910</td>\n",
       "      <td>-0.226002</td>\n",
       "      <td>-0.313201</td>\n",
       "      <td>-0.267670</td>\n",
       "      <td>-0.135860</td>\n",
       "      <td>-1.833382</td>\n",
       "      <td>-0.237171</td>\n",
       "      <td>-0.311056</td>\n",
       "      <td>-1.177907</td>\n",
       "      <td>0.355394</td>\n",
       "      <td>-0.522092</td>\n",
       "      <td>0.040597</td>\n",
       "      <td>0</td>\n",
       "    </tr>\n",
       "  </tbody>\n",
       "</table>\n",
       "</div>"
      ],
      "text/plain": [
       "               country  child_mort   exports    health   imports    income  \\\n",
       "21            Botswana    0.353908 -0.259599 -0.294923 -0.227100 -0.200033   \n",
       "49   Equatorial Guinea    1.808842  0.404642 -0.161833  0.237514  0.861347   \n",
       "137       South Africa    0.383753 -0.297910 -0.226002 -0.313201 -0.267670   \n",
       "\n",
       "     inflation  life_expec  total_fer      gdpp       PC1       PC2       PC3  \\\n",
       "21    0.107996   -1.517586  -0.045030 -0.361949 -1.129489  0.401611 -0.231994   \n",
       "49    1.624268   -1.089007   1.498724  0.226327 -1.052542  2.692334  1.048852   \n",
       "137  -0.135860   -1.833382  -0.237171 -0.311056 -1.177907  0.355394 -0.522092   \n",
       "\n",
       "          PC4  ClusterID  \n",
       "21   0.102647          0  \n",
       "49  -0.408086          0  \n",
       "137  0.040597          0  "
      ]
     },
     "execution_count": 88,
     "metadata": {},
     "output_type": "execute_result"
    }
   ],
   "source": [
    "q = dfinal.health.quantile(.95)\n",
    "dfinal.loc[(dfinal.health>=q)]"
   ]
  },
  {
   "cell_type": "code",
   "execution_count": 89,
   "metadata": {},
   "outputs": [
    {
     "data": {
      "text/html": [
       "<div>\n",
       "<style scoped>\n",
       "    .dataframe tbody tr th:only-of-type {\n",
       "        vertical-align: middle;\n",
       "    }\n",
       "\n",
       "    .dataframe tbody tr th {\n",
       "        vertical-align: top;\n",
       "    }\n",
       "\n",
       "    .dataframe thead th {\n",
       "        text-align: right;\n",
       "    }\n",
       "</style>\n",
       "<table border=\"1\" class=\"dataframe\">\n",
       "  <thead>\n",
       "    <tr style=\"text-align: right;\">\n",
       "      <th></th>\n",
       "      <th>child_mort</th>\n",
       "      <th>exports</th>\n",
       "      <th>health</th>\n",
       "      <th>imports</th>\n",
       "      <th>income</th>\n",
       "      <th>inflation</th>\n",
       "      <th>life_expec</th>\n",
       "      <th>total_fer</th>\n",
       "      <th>gdpp</th>\n",
       "      <th>PC1</th>\n",
       "      <th>PC2</th>\n",
       "      <th>PC3</th>\n",
       "      <th>PC4</th>\n",
       "      <th>ClusterID</th>\n",
       "    </tr>\n",
       "  </thead>\n",
       "  <tbody>\n",
       "    <tr>\n",
       "      <th>count</th>\n",
       "      <td>47.000000</td>\n",
       "      <td>47.000000</td>\n",
       "      <td>47.000000</td>\n",
       "      <td>47.000000</td>\n",
       "      <td>47.000000</td>\n",
       "      <td>47.000000</td>\n",
       "      <td>47.000000</td>\n",
       "      <td>47.000000</td>\n",
       "      <td>47.000000</td>\n",
       "      <td>47.000000</td>\n",
       "      <td>47.000000</td>\n",
       "      <td>47.000000</td>\n",
       "      <td>47.000000</td>\n",
       "      <td>47.0</td>\n",
       "    </tr>\n",
       "    <tr>\n",
       "      <th>mean</th>\n",
       "      <td>1.306296</td>\n",
       "      <td>-0.364699</td>\n",
       "      <td>-0.524487</td>\n",
       "      <td>-0.392205</td>\n",
       "      <td>-0.690625</td>\n",
       "      <td>0.205899</td>\n",
       "      <td>-1.279300</td>\n",
       "      <td>1.342389</td>\n",
       "      <td>-0.605453</td>\n",
       "      <td>-2.242185</td>\n",
       "      <td>1.176153</td>\n",
       "      <td>-0.384636</td>\n",
       "      <td>-0.161330</td>\n",
       "      <td>0.0</td>\n",
       "    </tr>\n",
       "    <tr>\n",
       "      <th>std</th>\n",
       "      <td>0.850976</td>\n",
       "      <td>0.127032</td>\n",
       "      <td>0.093155</td>\n",
       "      <td>0.106116</td>\n",
       "      <td>0.293832</td>\n",
       "      <td>0.689855</td>\n",
       "      <td>0.727593</td>\n",
       "      <td>0.688889</td>\n",
       "      <td>0.161810</td>\n",
       "      <td>0.645523</td>\n",
       "      <td>0.731950</td>\n",
       "      <td>0.760615</td>\n",
       "      <td>0.195862</td>\n",
       "      <td>0.0</td>\n",
       "    </tr>\n",
       "    <tr>\n",
       "      <th>min</th>\n",
       "      <td>-0.252936</td>\n",
       "      <td>-0.412947</td>\n",
       "      <td>-0.581240</td>\n",
       "      <td>-0.443031</td>\n",
       "      <td>-0.860326</td>\n",
       "      <td>-0.654410</td>\n",
       "      <td>-4.337186</td>\n",
       "      <td>-0.237171</td>\n",
       "      <td>-0.696801</td>\n",
       "      <td>-3.937287</td>\n",
       "      <td>0.019029</td>\n",
       "      <td>-1.756335</td>\n",
       "      <td>-0.583595</td>\n",
       "      <td>0.0</td>\n",
       "    </tr>\n",
       "    <tr>\n",
       "      <th>1%</th>\n",
       "      <td>-0.152260</td>\n",
       "      <td>-0.412884</td>\n",
       "      <td>-0.580536</td>\n",
       "      <td>-0.442349</td>\n",
       "      <td>-0.858148</td>\n",
       "      <td>-0.641534</td>\n",
       "      <td>-3.590105</td>\n",
       "      <td>-0.148786</td>\n",
       "      <td>-0.694384</td>\n",
       "      <td>-3.615130</td>\n",
       "      <td>0.119971</td>\n",
       "      <td>-1.685788</td>\n",
       "      <td>-0.576296</td>\n",
       "      <td>0.0</td>\n",
       "    </tr>\n",
       "    <tr>\n",
       "      <th>5%</th>\n",
       "      <td>0.362862</td>\n",
       "      <td>-0.411116</td>\n",
       "      <td>-0.578461</td>\n",
       "      <td>-0.440748</td>\n",
       "      <td>-0.851481</td>\n",
       "      <td>-0.584764</td>\n",
       "      <td>-2.448054</td>\n",
       "      <td>0.163675</td>\n",
       "      <td>-0.690934</td>\n",
       "      <td>-3.212213</td>\n",
       "      <td>0.248057</td>\n",
       "      <td>-1.301747</td>\n",
       "      <td>-0.495308</td>\n",
       "      <td>0.0</td>\n",
       "    </tr>\n",
       "    <tr>\n",
       "      <th>25%</th>\n",
       "      <td>0.631216</td>\n",
       "      <td>-0.408378</td>\n",
       "      <td>-0.569821</td>\n",
       "      <td>-0.436042</td>\n",
       "      <td>-0.819692</td>\n",
       "      <td>-0.357893</td>\n",
       "      <td>-1.568339</td>\n",
       "      <td>0.988556</td>\n",
       "      <td>-0.679344</td>\n",
       "      <td>-2.710755</td>\n",
       "      <td>0.562785</td>\n",
       "      <td>-0.942889</td>\n",
       "      <td>-0.264397</td>\n",
       "      <td>0.0</td>\n",
       "    </tr>\n",
       "    <tr>\n",
       "      <th>50%</th>\n",
       "      <td>1.269149</td>\n",
       "      <td>-0.403150</td>\n",
       "      <td>-0.560006</td>\n",
       "      <td>-0.427052</td>\n",
       "      <td>-0.795759</td>\n",
       "      <td>0.095661</td>\n",
       "      <td>-1.246905</td>\n",
       "      <td>1.392715</td>\n",
       "      <td>-0.660355</td>\n",
       "      <td>-2.243462</td>\n",
       "      <td>1.086249</td>\n",
       "      <td>-0.415173</td>\n",
       "      <td>-0.157729</td>\n",
       "      <td>0.0</td>\n",
       "    </tr>\n",
       "    <tr>\n",
       "      <th>75%</th>\n",
       "      <td>1.808842</td>\n",
       "      <td>-0.386163</td>\n",
       "      <td>-0.538399</td>\n",
       "      <td>-0.390050</td>\n",
       "      <td>-0.717976</td>\n",
       "      <td>0.812996</td>\n",
       "      <td>-0.869078</td>\n",
       "      <td>1.687552</td>\n",
       "      <td>-0.633650</td>\n",
       "      <td>-1.832171</td>\n",
       "      <td>1.593378</td>\n",
       "      <td>0.000845</td>\n",
       "      <td>-0.006813</td>\n",
       "      <td>0.0</td>\n",
       "    </tr>\n",
       "    <tr>\n",
       "      <th>95%</th>\n",
       "      <td>2.771337</td>\n",
       "      <td>-0.264417</td>\n",
       "      <td>-0.319744</td>\n",
       "      <td>-0.258047</td>\n",
       "      <td>-0.209398</td>\n",
       "      <td>1.466757</td>\n",
       "      <td>-0.354783</td>\n",
       "      <td>2.384560</td>\n",
       "      <td>-0.326324</td>\n",
       "      <td>-1.183932</td>\n",
       "      <td>2.343023</td>\n",
       "      <td>0.949380</td>\n",
       "      <td>0.105924</td>\n",
       "      <td>0.0</td>\n",
       "    </tr>\n",
       "    <tr>\n",
       "      <th>99%</th>\n",
       "      <td>3.672153</td>\n",
       "      <td>0.157622</td>\n",
       "      <td>-0.191351</td>\n",
       "      <td>0.023792</td>\n",
       "      <td>0.423372</td>\n",
       "      <td>1.706249</td>\n",
       "      <td>-0.089064</td>\n",
       "      <td>2.735052</td>\n",
       "      <td>0.016135</td>\n",
       "      <td>-1.087937</td>\n",
       "      <td>2.878452</td>\n",
       "      <td>1.291609</td>\n",
       "      <td>0.176442</td>\n",
       "      <td>0.0</td>\n",
       "    </tr>\n",
       "    <tr>\n",
       "      <th>max</th>\n",
       "      <td>4.221297</td>\n",
       "      <td>0.404642</td>\n",
       "      <td>-0.161833</td>\n",
       "      <td>0.237514</td>\n",
       "      <td>0.861347</td>\n",
       "      <td>1.776084</td>\n",
       "      <td>0.061390</td>\n",
       "      <td>3.009349</td>\n",
       "      <td>0.226327</td>\n",
       "      <td>-1.052542</td>\n",
       "      <td>3.036998</td>\n",
       "      <td>1.385958</td>\n",
       "      <td>0.201590</td>\n",
       "      <td>0.0</td>\n",
       "    </tr>\n",
       "  </tbody>\n",
       "</table>\n",
       "</div>"
      ],
      "text/plain": [
       "       child_mort    exports     health    imports     income  inflation  \\\n",
       "count   47.000000  47.000000  47.000000  47.000000  47.000000  47.000000   \n",
       "mean     1.306296  -0.364699  -0.524487  -0.392205  -0.690625   0.205899   \n",
       "std      0.850976   0.127032   0.093155   0.106116   0.293832   0.689855   \n",
       "min     -0.252936  -0.412947  -0.581240  -0.443031  -0.860326  -0.654410   \n",
       "1%      -0.152260  -0.412884  -0.580536  -0.442349  -0.858148  -0.641534   \n",
       "5%       0.362862  -0.411116  -0.578461  -0.440748  -0.851481  -0.584764   \n",
       "25%      0.631216  -0.408378  -0.569821  -0.436042  -0.819692  -0.357893   \n",
       "50%      1.269149  -0.403150  -0.560006  -0.427052  -0.795759   0.095661   \n",
       "75%      1.808842  -0.386163  -0.538399  -0.390050  -0.717976   0.812996   \n",
       "95%      2.771337  -0.264417  -0.319744  -0.258047  -0.209398   1.466757   \n",
       "99%      3.672153   0.157622  -0.191351   0.023792   0.423372   1.706249   \n",
       "max      4.221297   0.404642  -0.161833   0.237514   0.861347   1.776084   \n",
       "\n",
       "       life_expec  total_fer       gdpp        PC1        PC2        PC3  \\\n",
       "count   47.000000  47.000000  47.000000  47.000000  47.000000  47.000000   \n",
       "mean    -1.279300   1.342389  -0.605453  -2.242185   1.176153  -0.384636   \n",
       "std      0.727593   0.688889   0.161810   0.645523   0.731950   0.760615   \n",
       "min     -4.337186  -0.237171  -0.696801  -3.937287   0.019029  -1.756335   \n",
       "1%      -3.590105  -0.148786  -0.694384  -3.615130   0.119971  -1.685788   \n",
       "5%      -2.448054   0.163675  -0.690934  -3.212213   0.248057  -1.301747   \n",
       "25%     -1.568339   0.988556  -0.679344  -2.710755   0.562785  -0.942889   \n",
       "50%     -1.246905   1.392715  -0.660355  -2.243462   1.086249  -0.415173   \n",
       "75%     -0.869078   1.687552  -0.633650  -1.832171   1.593378   0.000845   \n",
       "95%     -0.354783   2.384560  -0.326324  -1.183932   2.343023   0.949380   \n",
       "99%     -0.089064   2.735052   0.016135  -1.087937   2.878452   1.291609   \n",
       "max      0.061390   3.009349   0.226327  -1.052542   3.036998   1.385958   \n",
       "\n",
       "             PC4  ClusterID  \n",
       "count  47.000000       47.0  \n",
       "mean   -0.161330        0.0  \n",
       "std     0.195862        0.0  \n",
       "min    -0.583595        0.0  \n",
       "1%     -0.576296        0.0  \n",
       "5%     -0.495308        0.0  \n",
       "25%    -0.264397        0.0  \n",
       "50%    -0.157729        0.0  \n",
       "75%    -0.006813        0.0  \n",
       "95%     0.105924        0.0  \n",
       "99%     0.176442        0.0  \n",
       "max     0.201590        0.0  "
      ]
     },
     "execution_count": 89,
     "metadata": {},
     "output_type": "execute_result"
    }
   ],
   "source": [
    "dfinal.describe(percentiles=(.01,.05,.25,.50,.75,.95,.99))"
   ]
  },
  {
   "cell_type": "code",
   "execution_count": 95,
   "metadata": {},
   "outputs": [],
   "source": [
    "country=pd.DataFrame(dfinal.country)"
   ]
  },
  {
   "cell_type": "code",
   "execution_count": 97,
   "metadata": {},
   "outputs": [],
   "source": [
    "country.to_csv(\"Country.csv\")"
   ]
  },
  {
   "cell_type": "code",
   "execution_count": 105,
   "metadata": {},
   "outputs": [
    {
     "data": {
      "text/html": [
       "<div>\n",
       "<style scoped>\n",
       "    .dataframe tbody tr th:only-of-type {\n",
       "        vertical-align: middle;\n",
       "    }\n",
       "\n",
       "    .dataframe tbody tr th {\n",
       "        vertical-align: top;\n",
       "    }\n",
       "\n",
       "    .dataframe thead th {\n",
       "        text-align: right;\n",
       "    }\n",
       "</style>\n",
       "<table border=\"1\" class=\"dataframe\">\n",
       "  <thead>\n",
       "    <tr style=\"text-align: right;\">\n",
       "      <th></th>\n",
       "      <th>country</th>\n",
       "      <th>child_mort</th>\n",
       "      <th>exports</th>\n",
       "      <th>health</th>\n",
       "      <th>imports</th>\n",
       "      <th>income</th>\n",
       "      <th>inflation</th>\n",
       "      <th>life_expec</th>\n",
       "      <th>total_fer</th>\n",
       "      <th>gdpp</th>\n",
       "      <th>PC1</th>\n",
       "      <th>PC2</th>\n",
       "      <th>PC3</th>\n",
       "      <th>PC4</th>\n",
       "      <th>ClusterID</th>\n",
       "    </tr>\n",
       "  </thead>\n",
       "  <tbody>\n",
       "    <tr>\n",
       "      <th>166</th>\n",
       "      <td>Zambia</td>\n",
       "      <td>1.114951</td>\n",
       "      <td>-0.383952</td>\n",
       "      <td>-0.540498</td>\n",
       "      <td>-0.418445</td>\n",
       "      <td>-0.721358</td>\n",
       "      <td>0.590015</td>\n",
       "      <td>-2.092785</td>\n",
       "      <td>1.624609</td>\n",
       "      <td>-0.629546</td>\n",
       "      <td>-2.644505</td>\n",
       "      <td>1.571953</td>\n",
       "      <td>-0.174685</td>\n",
       "      <td>-0.178965</td>\n",
       "      <td>0</td>\n",
       "    </tr>\n",
       "  </tbody>\n",
       "</table>\n",
       "</div>"
      ],
      "text/plain": [
       "    country  child_mort   exports    health   imports    income  inflation  \\\n",
       "166  Zambia    1.114951 -0.383952 -0.540498 -0.418445 -0.721358   0.590015   \n",
       "\n",
       "     life_expec  total_fer      gdpp       PC1       PC2       PC3       PC4  \\\n",
       "166   -2.092785   1.624609 -0.629546 -2.644505  1.571953 -0.174685 -0.178965   \n",
       "\n",
       "     ClusterID  \n",
       "166          0  "
      ]
     },
     "execution_count": 105,
     "metadata": {},
     "output_type": "execute_result"
    }
   ],
   "source": [
    "dfinal[dfinal.country=='Zambia']"
   ]
  },
  {
   "cell_type": "code",
   "execution_count": null,
   "metadata": {},
   "outputs": [],
   "source": []
  }
 ],
 "metadata": {
  "kernelspec": {
   "display_name": "Python 3",
   "language": "python",
   "name": "python3"
  },
  "language_info": {
   "codemirror_mode": {
    "name": "ipython",
    "version": 3
   },
   "file_extension": ".py",
   "mimetype": "text/x-python",
   "name": "python",
   "nbconvert_exporter": "python",
   "pygments_lexer": "ipython3",
   "version": "3.7.1"
  }
 },
 "nbformat": 4,
 "nbformat_minor": 2
}
